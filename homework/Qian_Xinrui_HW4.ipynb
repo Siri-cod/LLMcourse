{
  "cells": [
    {
      "cell_type": "markdown",
      "metadata": {
        "id": "view-in-github",
        "colab_type": "text"
      },
      "source": [
        "<a href=\"https://colab.research.google.com/github/Siri-cod/LLMcourse/blob/main/homework/04_evaluation.ipynb\" target=\"_parent\"><img src=\"https://colab.research.google.com/assets/colab-badge.svg\" alt=\"Open In Colab\"/></a>"
      ]
    },
    {
      "cell_type": "markdown",
      "metadata": {
        "id": "BE3y75m_lSE0"
      },
      "source": [
        "Homework 4: LLM evaluation (59 points)\n",
        "=====\n",
        "\n",
        "The third homework zooms in on evaluating LLMs, specifically, on the following skills: using log probabilities of string under a trained LM to evaluate it, coming up with items to test particular aspets of LLMs, and comparing LLM measures to measures of human performance.\n",
        "\n",
        "### Logistics\n",
        "\n",
        "* submission deadline: July 15th th 23:59 German time via Moodle\n",
        "  * please upload a **SINGLE .IPYNB FILE named Surname_FirstName_HW4.ipynb** containing your solutions of the homework. Make sure that your **plots** for the last exercise are either rendered in the notebook or submitted together with it in a zip file.\n",
        "* please solve and submit the homework **individually**!\n",
        "* if you use Colab, to speed up the execution of the code on Colab, you can use the available GPU (if Colab resources allow). For that, before executing your code, navigate to Runtime > Change runtime type > GPU > Save.\n",
        "\n",
        "**NOTE:** It might be that, on Colab, you run out of memory between the exercises. You might need to restart the runtime / it will restart automatically. After the restart, you might need to re-install packages. Furthermore, if you work on Colab, do not leave working on these tasks to the last minute, as Colab sometimes limits access to GPU runtime / day if one tries to restart access GPUs frequently."
      ]
    },
    {
      "cell_type": "markdown",
      "metadata": {
        "id": "bZibVnAilSE2"
      },
      "source": [
        "## Exercise 1: Understanding grammatical capabilities of LLMs (10 points)\n",
        "\n",
        "In this task, we look at [BLiMP](https://aclanthology.org/2020.tacl-1.25/), the benchmark of linguistic minimal pairs. This is a well-known benchmark for evaluating linguistic capabilities of language models. It consists of 67 individual datasets, each containing 1,000 minimal pairs -- that is, pairs of minimally different sentences that contrast in grammatical acceptability and isolate specific phenomenon in syntax, morphology, or semantics. The authors suggest to use the benchmark to evaluate LMs by observing whether they assign a higher probability to the acceptable sentence in each minimal pair.\n",
        "\n",
        "> Your task is to evaluate an open-source model, [Olmo-2-1B-Instruct](https://huggingface.co/allenai/OLMo-2-0425-1B-Instruct), on this benchmark by completing the code below. Based on your evaluation results, please answer the following questions.\n",
        "> Please use the following test suites to answer them: anaphor_gender_agreement, determiner_noun_agreement_with_adjective_1, animate_subject_passive, complex_NP_island, npi_present_1, superlative_quantifiers_1, existential_there_object_raising, principle_A_case_1.\n",
        ">\n",
        "> The entire benchmark can be found [here](https://huggingface.co/datasets/nyu-mll/blimp).\n",
        ">\n",
        "> 1. Plot the accuracy of the model on the different grammatical phenomena, represented in different test suites.\n",
        "> 2. Calculate the average accuracies and the confidence intervals in the different fields: syntax, morphology, syntax-semantics, semantics. Is the performance the same across the different fields? Which field is the most difficult one?\n",
        "> 3. What is the easiest grammatical phenomenon, what is the most difficult grammatical phenomenon (as captured by the single test suites) for the model?"
      ]
    },
    {
      "cell_type": "markdown",
      "source": [
        "> **Answers**\n",
        "> 1. Shown in coding area\n",
        "> 2. The performance is not the same across different fields. \"Syntax\" is the most difficult one.\n",
        "> 3. \"principle_A_case_1\" is the easiest grammatical phenomenon, while \"complex_NP_island\" is the most  difficult one for the model."
      ],
      "metadata": {
        "id": "J4QLUk5Kua4M"
      }
    },
    {
      "cell_type": "markdown",
      "metadata": {
        "id": "9enrajIwlSE2"
      },
      "source": [
        "Note: you might be prompted to reload your runtime after installing minicons, and you might see some deprecation warnings / dependency incompatibilities when it is installed. Please ignore these warnings (usually not the best practice, we know!)."
      ]
    },
    {
      "cell_type": "code",
      "execution_count": 2,
      "metadata": {
        "colab": {
          "base_uri": "https://localhost:8080/"
        },
        "collapsed": true,
        "id": "GZCtUXHClSE2",
        "outputId": "b7195836-f066-421b-a869-346199113231"
      },
      "outputs": [
        {
          "output_type": "stream",
          "name": "stdout",
          "text": [
            "Collecting minicons\n",
            "  Downloading minicons-0.3.32-py3-none-any.whl.metadata (10 kB)\n",
            "Requirement already satisfied: datasets in /usr/local/lib/python3.11/dist-packages (2.14.4)\n",
            "Requirement already satisfied: accelerate>=0.25.0 in /usr/local/lib/python3.11/dist-packages (from minicons) (1.8.1)\n",
            "Requirement already satisfied: numpy>=2.0.0 in /usr/local/lib/python3.11/dist-packages (from minicons) (2.0.2)\n",
            "Requirement already satisfied: pandas>=2.2.0 in /usr/local/lib/python3.11/dist-packages (from minicons) (2.2.2)\n",
            "Requirement already satisfied: pillow>=10.2.0 in /usr/local/lib/python3.11/dist-packages (from minicons) (11.2.1)\n",
            "Requirement already satisfied: tenacity>=8.2.3 in /usr/local/lib/python3.11/dist-packages (from minicons) (8.5.0)\n",
            "Requirement already satisfied: torch>=2.5.0 in /usr/local/lib/python3.11/dist-packages (from minicons) (2.6.0+cu124)\n",
            "Requirement already satisfied: transformers>=4.48 in /usr/local/lib/python3.11/dist-packages (from minicons) (4.53.0)\n",
            "Requirement already satisfied: urllib3<3.0.0,>=1.26.7 in /usr/local/lib/python3.11/dist-packages (from minicons) (2.4.0)\n",
            "Collecting wonderwords>=2.2.0 (from minicons)\n",
            "  Downloading wonderwords-2.2.0-py3-none-any.whl.metadata (9.1 kB)\n",
            "Requirement already satisfied: pyarrow>=8.0.0 in /usr/local/lib/python3.11/dist-packages (from datasets) (18.1.0)\n",
            "Requirement already satisfied: dill<0.3.8,>=0.3.0 in /usr/local/lib/python3.11/dist-packages (from datasets) (0.3.7)\n",
            "Requirement already satisfied: requests>=2.19.0 in /usr/local/lib/python3.11/dist-packages (from datasets) (2.32.3)\n",
            "Requirement already satisfied: tqdm>=4.62.1 in /usr/local/lib/python3.11/dist-packages (from datasets) (4.67.1)\n",
            "Requirement already satisfied: xxhash in /usr/local/lib/python3.11/dist-packages (from datasets) (3.5.0)\n",
            "Requirement already satisfied: multiprocess in /usr/local/lib/python3.11/dist-packages (from datasets) (0.70.15)\n",
            "Requirement already satisfied: fsspec>=2021.11.1 in /usr/local/lib/python3.11/dist-packages (from fsspec[http]>=2021.11.1->datasets) (2025.3.2)\n",
            "Requirement already satisfied: aiohttp in /usr/local/lib/python3.11/dist-packages (from datasets) (3.11.15)\n",
            "Requirement already satisfied: huggingface-hub<1.0.0,>=0.14.0 in /usr/local/lib/python3.11/dist-packages (from datasets) (0.33.1)\n",
            "Requirement already satisfied: packaging in /usr/local/lib/python3.11/dist-packages (from datasets) (24.2)\n",
            "Requirement already satisfied: pyyaml>=5.1 in /usr/local/lib/python3.11/dist-packages (from datasets) (6.0.2)\n",
            "Requirement already satisfied: psutil in /usr/local/lib/python3.11/dist-packages (from accelerate>=0.25.0->minicons) (5.9.5)\n",
            "Requirement already satisfied: safetensors>=0.4.3 in /usr/local/lib/python3.11/dist-packages (from accelerate>=0.25.0->minicons) (0.5.3)\n",
            "Requirement already satisfied: aiohappyeyeballs>=2.3.0 in /usr/local/lib/python3.11/dist-packages (from aiohttp->datasets) (2.6.1)\n",
            "Requirement already satisfied: aiosignal>=1.1.2 in /usr/local/lib/python3.11/dist-packages (from aiohttp->datasets) (1.3.2)\n",
            "Requirement already satisfied: attrs>=17.3.0 in /usr/local/lib/python3.11/dist-packages (from aiohttp->datasets) (25.3.0)\n",
            "Requirement already satisfied: frozenlist>=1.1.1 in /usr/local/lib/python3.11/dist-packages (from aiohttp->datasets) (1.7.0)\n",
            "Requirement already satisfied: multidict<7.0,>=4.5 in /usr/local/lib/python3.11/dist-packages (from aiohttp->datasets) (6.6.3)\n",
            "Requirement already satisfied: propcache>=0.2.0 in /usr/local/lib/python3.11/dist-packages (from aiohttp->datasets) (0.3.2)\n",
            "Requirement already satisfied: yarl<2.0,>=1.17.0 in /usr/local/lib/python3.11/dist-packages (from aiohttp->datasets) (1.20.1)\n",
            "Requirement already satisfied: filelock in /usr/local/lib/python3.11/dist-packages (from huggingface-hub<1.0.0,>=0.14.0->datasets) (3.18.0)\n",
            "Requirement already satisfied: typing-extensions>=3.7.4.3 in /usr/local/lib/python3.11/dist-packages (from huggingface-hub<1.0.0,>=0.14.0->datasets) (4.14.0)\n",
            "Requirement already satisfied: hf-xet<2.0.0,>=1.1.2 in /usr/local/lib/python3.11/dist-packages (from huggingface-hub<1.0.0,>=0.14.0->datasets) (1.1.5)\n",
            "Requirement already satisfied: python-dateutil>=2.8.2 in /usr/local/lib/python3.11/dist-packages (from pandas>=2.2.0->minicons) (2.9.0.post0)\n",
            "Requirement already satisfied: pytz>=2020.1 in /usr/local/lib/python3.11/dist-packages (from pandas>=2.2.0->minicons) (2025.2)\n",
            "Requirement already satisfied: tzdata>=2022.7 in /usr/local/lib/python3.11/dist-packages (from pandas>=2.2.0->minicons) (2025.2)\n",
            "Requirement already satisfied: charset-normalizer<4,>=2 in /usr/local/lib/python3.11/dist-packages (from requests>=2.19.0->datasets) (3.4.2)\n",
            "Requirement already satisfied: idna<4,>=2.5 in /usr/local/lib/python3.11/dist-packages (from requests>=2.19.0->datasets) (3.10)\n",
            "Requirement already satisfied: certifi>=2017.4.17 in /usr/local/lib/python3.11/dist-packages (from requests>=2.19.0->datasets) (2025.6.15)\n",
            "Requirement already satisfied: networkx in /usr/local/lib/python3.11/dist-packages (from torch>=2.5.0->minicons) (3.5)\n",
            "Requirement already satisfied: jinja2 in /usr/local/lib/python3.11/dist-packages (from torch>=2.5.0->minicons) (3.1.6)\n",
            "Collecting nvidia-cuda-nvrtc-cu12==12.4.127 (from torch>=2.5.0->minicons)\n",
            "  Downloading nvidia_cuda_nvrtc_cu12-12.4.127-py3-none-manylinux2014_x86_64.whl.metadata (1.5 kB)\n",
            "Collecting nvidia-cuda-runtime-cu12==12.4.127 (from torch>=2.5.0->minicons)\n",
            "  Downloading nvidia_cuda_runtime_cu12-12.4.127-py3-none-manylinux2014_x86_64.whl.metadata (1.5 kB)\n",
            "Collecting nvidia-cuda-cupti-cu12==12.4.127 (from torch>=2.5.0->minicons)\n",
            "  Downloading nvidia_cuda_cupti_cu12-12.4.127-py3-none-manylinux2014_x86_64.whl.metadata (1.6 kB)\n",
            "Collecting nvidia-cudnn-cu12==9.1.0.70 (from torch>=2.5.0->minicons)\n",
            "  Downloading nvidia_cudnn_cu12-9.1.0.70-py3-none-manylinux2014_x86_64.whl.metadata (1.6 kB)\n",
            "Collecting nvidia-cublas-cu12==12.4.5.8 (from torch>=2.5.0->minicons)\n",
            "  Downloading nvidia_cublas_cu12-12.4.5.8-py3-none-manylinux2014_x86_64.whl.metadata (1.5 kB)\n",
            "Collecting nvidia-cufft-cu12==11.2.1.3 (from torch>=2.5.0->minicons)\n",
            "  Downloading nvidia_cufft_cu12-11.2.1.3-py3-none-manylinux2014_x86_64.whl.metadata (1.5 kB)\n",
            "Collecting nvidia-curand-cu12==10.3.5.147 (from torch>=2.5.0->minicons)\n",
            "  Downloading nvidia_curand_cu12-10.3.5.147-py3-none-manylinux2014_x86_64.whl.metadata (1.5 kB)\n",
            "Collecting nvidia-cusolver-cu12==11.6.1.9 (from torch>=2.5.0->minicons)\n",
            "  Downloading nvidia_cusolver_cu12-11.6.1.9-py3-none-manylinux2014_x86_64.whl.metadata (1.6 kB)\n",
            "Collecting nvidia-cusparse-cu12==12.3.1.170 (from torch>=2.5.0->minicons)\n",
            "  Downloading nvidia_cusparse_cu12-12.3.1.170-py3-none-manylinux2014_x86_64.whl.metadata (1.6 kB)\n",
            "Requirement already satisfied: nvidia-cusparselt-cu12==0.6.2 in /usr/local/lib/python3.11/dist-packages (from torch>=2.5.0->minicons) (0.6.2)\n",
            "Requirement already satisfied: nvidia-nccl-cu12==2.21.5 in /usr/local/lib/python3.11/dist-packages (from torch>=2.5.0->minicons) (2.21.5)\n",
            "Requirement already satisfied: nvidia-nvtx-cu12==12.4.127 in /usr/local/lib/python3.11/dist-packages (from torch>=2.5.0->minicons) (12.4.127)\n",
            "Collecting nvidia-nvjitlink-cu12==12.4.127 (from torch>=2.5.0->minicons)\n",
            "  Downloading nvidia_nvjitlink_cu12-12.4.127-py3-none-manylinux2014_x86_64.whl.metadata (1.5 kB)\n",
            "Requirement already satisfied: triton==3.2.0 in /usr/local/lib/python3.11/dist-packages (from torch>=2.5.0->minicons) (3.2.0)\n",
            "Requirement already satisfied: sympy==1.13.1 in /usr/local/lib/python3.11/dist-packages (from torch>=2.5.0->minicons) (1.13.1)\n",
            "Requirement already satisfied: mpmath<1.4,>=1.1.0 in /usr/local/lib/python3.11/dist-packages (from sympy==1.13.1->torch>=2.5.0->minicons) (1.3.0)\n",
            "Requirement already satisfied: regex!=2019.12.17 in /usr/local/lib/python3.11/dist-packages (from transformers>=4.48->minicons) (2024.11.6)\n",
            "Requirement already satisfied: tokenizers<0.22,>=0.21 in /usr/local/lib/python3.11/dist-packages (from transformers>=4.48->minicons) (0.21.2)\n",
            "Requirement already satisfied: six>=1.5 in /usr/local/lib/python3.11/dist-packages (from python-dateutil>=2.8.2->pandas>=2.2.0->minicons) (1.17.0)\n",
            "Requirement already satisfied: MarkupSafe>=2.0 in /usr/local/lib/python3.11/dist-packages (from jinja2->torch>=2.5.0->minicons) (3.0.2)\n",
            "Downloading minicons-0.3.32-py3-none-any.whl (41 kB)\n",
            "\u001b[2K   \u001b[90m━━━━━━━━━━━━━━━━━━━━━━━━━━━━━━━━━━━━━━━━\u001b[0m \u001b[32m41.7/41.7 kB\u001b[0m \u001b[31m3.5 MB/s\u001b[0m eta \u001b[36m0:00:00\u001b[0m\n",
            "\u001b[?25hDownloading nvidia_cublas_cu12-12.4.5.8-py3-none-manylinux2014_x86_64.whl (363.4 MB)\n",
            "\u001b[2K   \u001b[90m━━━━━━━━━━━━━━━━━━━━━━━━━━━━━━━━━━━━━━━━\u001b[0m \u001b[32m363.4/363.4 MB\u001b[0m \u001b[31m4.0 MB/s\u001b[0m eta \u001b[36m0:00:00\u001b[0m\n",
            "\u001b[?25hDownloading nvidia_cuda_cupti_cu12-12.4.127-py3-none-manylinux2014_x86_64.whl (13.8 MB)\n",
            "\u001b[2K   \u001b[90m━━━━━━━━━━━━━━━━━━━━━━━━━━━━━━━━━━━━━━━━\u001b[0m \u001b[32m13.8/13.8 MB\u001b[0m \u001b[31m72.3 MB/s\u001b[0m eta \u001b[36m0:00:00\u001b[0m\n",
            "\u001b[?25hDownloading nvidia_cuda_nvrtc_cu12-12.4.127-py3-none-manylinux2014_x86_64.whl (24.6 MB)\n",
            "\u001b[2K   \u001b[90m━━━━━━━━━━━━━━━━━━━━━━━━━━━━━━━━━━━━━━━━\u001b[0m \u001b[32m24.6/24.6 MB\u001b[0m \u001b[31m63.8 MB/s\u001b[0m eta \u001b[36m0:00:00\u001b[0m\n",
            "\u001b[?25hDownloading nvidia_cuda_runtime_cu12-12.4.127-py3-none-manylinux2014_x86_64.whl (883 kB)\n",
            "\u001b[2K   \u001b[90m━━━━━━━━━━━━━━━━━━━━━━━━━━━━━━━━━━━━━━━━\u001b[0m \u001b[32m883.7/883.7 kB\u001b[0m \u001b[31m51.1 MB/s\u001b[0m eta \u001b[36m0:00:00\u001b[0m\n",
            "\u001b[?25hDownloading nvidia_cudnn_cu12-9.1.0.70-py3-none-manylinux2014_x86_64.whl (664.8 MB)\n",
            "\u001b[2K   \u001b[90m━━━━━━━━━━━━━━━━━━━━━━━━━━━━━━━━━━━━━━━━\u001b[0m \u001b[32m664.8/664.8 MB\u001b[0m \u001b[31m2.7 MB/s\u001b[0m eta \u001b[36m0:00:00\u001b[0m\n",
            "\u001b[?25hDownloading nvidia_cufft_cu12-11.2.1.3-py3-none-manylinux2014_x86_64.whl (211.5 MB)\n",
            "\u001b[2K   \u001b[90m━━━━━━━━━━━━━━━━━━━━━━━━━━━━━━━━━━━━━━━━\u001b[0m \u001b[32m211.5/211.5 MB\u001b[0m \u001b[31m5.8 MB/s\u001b[0m eta \u001b[36m0:00:00\u001b[0m\n",
            "\u001b[?25hDownloading nvidia_curand_cu12-10.3.5.147-py3-none-manylinux2014_x86_64.whl (56.3 MB)\n",
            "\u001b[2K   \u001b[90m━━━━━━━━━━━━━━━━━━━━━━━━━━━━━━━━━━━━━━━━\u001b[0m \u001b[32m56.3/56.3 MB\u001b[0m \u001b[31m12.9 MB/s\u001b[0m eta \u001b[36m0:00:00\u001b[0m\n",
            "\u001b[?25hDownloading nvidia_cusolver_cu12-11.6.1.9-py3-none-manylinux2014_x86_64.whl (127.9 MB)\n",
            "\u001b[2K   \u001b[90m━━━━━━━━━━━━━━━━━━━━━━━━━━━━━━━━━━━━━━━━\u001b[0m \u001b[32m127.9/127.9 MB\u001b[0m \u001b[31m7.6 MB/s\u001b[0m eta \u001b[36m0:00:00\u001b[0m\n",
            "\u001b[?25hDownloading nvidia_cusparse_cu12-12.3.1.170-py3-none-manylinux2014_x86_64.whl (207.5 MB)\n",
            "\u001b[2K   \u001b[90m━━━━━━━━━━━━━━━━━━━━━━━━━━━━━━━━━━━━━━━━\u001b[0m \u001b[32m207.5/207.5 MB\u001b[0m \u001b[31m5.5 MB/s\u001b[0m eta \u001b[36m0:00:00\u001b[0m\n",
            "\u001b[?25hDownloading nvidia_nvjitlink_cu12-12.4.127-py3-none-manylinux2014_x86_64.whl (21.1 MB)\n",
            "\u001b[2K   \u001b[90m━━━━━━━━━━━━━━━━━━━━━━━━━━━━━━━━━━━━━━━━\u001b[0m \u001b[32m21.1/21.1 MB\u001b[0m \u001b[31m103.4 MB/s\u001b[0m eta \u001b[36m0:00:00\u001b[0m\n",
            "\u001b[?25hDownloading wonderwords-2.2.0-py3-none-any.whl (44 kB)\n",
            "\u001b[2K   \u001b[90m━━━━━━━━━━━━━━━━━━━━━━━━━━━━━━━━━━━━━━━━\u001b[0m \u001b[32m45.0/45.0 kB\u001b[0m \u001b[31m4.2 MB/s\u001b[0m eta \u001b[36m0:00:00\u001b[0m\n",
            "\u001b[?25hInstalling collected packages: wonderwords, nvidia-nvjitlink-cu12, nvidia-curand-cu12, nvidia-cufft-cu12, nvidia-cuda-runtime-cu12, nvidia-cuda-nvrtc-cu12, nvidia-cuda-cupti-cu12, nvidia-cublas-cu12, nvidia-cusparse-cu12, nvidia-cudnn-cu12, nvidia-cusolver-cu12, minicons\n",
            "  Attempting uninstall: nvidia-nvjitlink-cu12\n",
            "    Found existing installation: nvidia-nvjitlink-cu12 12.5.82\n",
            "    Uninstalling nvidia-nvjitlink-cu12-12.5.82:\n",
            "      Successfully uninstalled nvidia-nvjitlink-cu12-12.5.82\n",
            "  Attempting uninstall: nvidia-curand-cu12\n",
            "    Found existing installation: nvidia-curand-cu12 10.3.6.82\n",
            "    Uninstalling nvidia-curand-cu12-10.3.6.82:\n",
            "      Successfully uninstalled nvidia-curand-cu12-10.3.6.82\n",
            "  Attempting uninstall: nvidia-cufft-cu12\n",
            "    Found existing installation: nvidia-cufft-cu12 11.2.3.61\n",
            "    Uninstalling nvidia-cufft-cu12-11.2.3.61:\n",
            "      Successfully uninstalled nvidia-cufft-cu12-11.2.3.61\n",
            "  Attempting uninstall: nvidia-cuda-runtime-cu12\n",
            "    Found existing installation: nvidia-cuda-runtime-cu12 12.5.82\n",
            "    Uninstalling nvidia-cuda-runtime-cu12-12.5.82:\n",
            "      Successfully uninstalled nvidia-cuda-runtime-cu12-12.5.82\n",
            "  Attempting uninstall: nvidia-cuda-nvrtc-cu12\n",
            "    Found existing installation: nvidia-cuda-nvrtc-cu12 12.5.82\n",
            "    Uninstalling nvidia-cuda-nvrtc-cu12-12.5.82:\n",
            "      Successfully uninstalled nvidia-cuda-nvrtc-cu12-12.5.82\n",
            "  Attempting uninstall: nvidia-cuda-cupti-cu12\n",
            "    Found existing installation: nvidia-cuda-cupti-cu12 12.5.82\n",
            "    Uninstalling nvidia-cuda-cupti-cu12-12.5.82:\n",
            "      Successfully uninstalled nvidia-cuda-cupti-cu12-12.5.82\n",
            "  Attempting uninstall: nvidia-cublas-cu12\n",
            "    Found existing installation: nvidia-cublas-cu12 12.5.3.2\n",
            "    Uninstalling nvidia-cublas-cu12-12.5.3.2:\n",
            "      Successfully uninstalled nvidia-cublas-cu12-12.5.3.2\n",
            "  Attempting uninstall: nvidia-cusparse-cu12\n",
            "    Found existing installation: nvidia-cusparse-cu12 12.5.1.3\n",
            "    Uninstalling nvidia-cusparse-cu12-12.5.1.3:\n",
            "      Successfully uninstalled nvidia-cusparse-cu12-12.5.1.3\n",
            "  Attempting uninstall: nvidia-cudnn-cu12\n",
            "    Found existing installation: nvidia-cudnn-cu12 9.3.0.75\n",
            "    Uninstalling nvidia-cudnn-cu12-9.3.0.75:\n",
            "      Successfully uninstalled nvidia-cudnn-cu12-9.3.0.75\n",
            "  Attempting uninstall: nvidia-cusolver-cu12\n",
            "    Found existing installation: nvidia-cusolver-cu12 11.6.3.83\n",
            "    Uninstalling nvidia-cusolver-cu12-11.6.3.83:\n",
            "      Successfully uninstalled nvidia-cusolver-cu12-11.6.3.83\n",
            "Successfully installed minicons-0.3.32 nvidia-cublas-cu12-12.4.5.8 nvidia-cuda-cupti-cu12-12.4.127 nvidia-cuda-nvrtc-cu12-12.4.127 nvidia-cuda-runtime-cu12-12.4.127 nvidia-cudnn-cu12-9.1.0.70 nvidia-cufft-cu12-11.2.1.3 nvidia-curand-cu12-10.3.5.147 nvidia-cusolver-cu12-11.6.1.9 nvidia-cusparse-cu12-12.3.1.170 nvidia-nvjitlink-cu12-12.4.127 wonderwords-2.2.0\n"
          ]
        }
      ],
      "source": [
        "!pip install minicons datasets"
      ]
    },
    {
      "cell_type": "code",
      "execution_count": 3,
      "metadata": {
        "id": "48XJ-flylSE3"
      },
      "outputs": [],
      "source": [
        "from datasets import load_dataset\n",
        "import torch\n",
        "from minicons import scorer\n",
        "import numpy as np\n",
        "import pandas as pd"
      ]
    },
    {
      "cell_type": "code",
      "execution_count": 4,
      "metadata": {
        "id": "u2H2ESDhlSE3"
      },
      "outputs": [],
      "source": [
        "import torch\n",
        "if torch.cuda.is_available():\n",
        "    device = torch.device('cuda')\n",
        "elif torch.backends.mps.is_available():\n",
        "    device = torch.device('mps')\n",
        "else:\n",
        "    device = torch.device('cpu')"
      ]
    },
    {
      "cell_type": "code",
      "source": [
        "pip install --upgrade datasets fsspec"
      ],
      "metadata": {
        "collapsed": true,
        "colab": {
          "base_uri": "https://localhost:8080/"
        },
        "id": "dqLuvvcBBU6o",
        "outputId": "0fcbdd15-316d-44f0-9ad8-8b3235a05a91"
      },
      "execution_count": 2,
      "outputs": [
        {
          "output_type": "stream",
          "name": "stdout",
          "text": [
            "Requirement already satisfied: datasets in /usr/local/lib/python3.11/dist-packages (2.14.4)\n",
            "Collecting datasets\n",
            "  Downloading datasets-3.6.0-py3-none-any.whl.metadata (19 kB)\n",
            "Requirement already satisfied: fsspec in /usr/local/lib/python3.11/dist-packages (2025.3.2)\n",
            "Collecting fsspec\n",
            "  Downloading fsspec-2025.5.1-py3-none-any.whl.metadata (11 kB)\n",
            "Requirement already satisfied: filelock in /usr/local/lib/python3.11/dist-packages (from datasets) (3.18.0)\n",
            "Requirement already satisfied: numpy>=1.17 in /usr/local/lib/python3.11/dist-packages (from datasets) (2.0.2)\n",
            "Requirement already satisfied: pyarrow>=15.0.0 in /usr/local/lib/python3.11/dist-packages (from datasets) (18.1.0)\n",
            "Requirement already satisfied: dill<0.3.9,>=0.3.0 in /usr/local/lib/python3.11/dist-packages (from datasets) (0.3.7)\n",
            "Requirement already satisfied: pandas in /usr/local/lib/python3.11/dist-packages (from datasets) (2.2.2)\n",
            "Requirement already satisfied: requests>=2.32.2 in /usr/local/lib/python3.11/dist-packages (from datasets) (2.32.3)\n",
            "Requirement already satisfied: tqdm>=4.66.3 in /usr/local/lib/python3.11/dist-packages (from datasets) (4.67.1)\n",
            "Requirement already satisfied: xxhash in /usr/local/lib/python3.11/dist-packages (from datasets) (3.5.0)\n",
            "Requirement already satisfied: multiprocess<0.70.17 in /usr/local/lib/python3.11/dist-packages (from datasets) (0.70.15)\n",
            "  Downloading fsspec-2025.3.0-py3-none-any.whl.metadata (11 kB)\n",
            "Requirement already satisfied: huggingface-hub>=0.24.0 in /usr/local/lib/python3.11/dist-packages (from datasets) (0.33.1)\n",
            "Requirement already satisfied: packaging in /usr/local/lib/python3.11/dist-packages (from datasets) (24.2)\n",
            "Requirement already satisfied: pyyaml>=5.1 in /usr/local/lib/python3.11/dist-packages (from datasets) (6.0.2)\n",
            "Requirement already satisfied: aiohttp!=4.0.0a0,!=4.0.0a1 in /usr/local/lib/python3.11/dist-packages (from fsspec[http]<=2025.3.0,>=2023.1.0->datasets) (3.11.15)\n",
            "Requirement already satisfied: typing-extensions>=3.7.4.3 in /usr/local/lib/python3.11/dist-packages (from huggingface-hub>=0.24.0->datasets) (4.14.0)\n",
            "Requirement already satisfied: hf-xet<2.0.0,>=1.1.2 in /usr/local/lib/python3.11/dist-packages (from huggingface-hub>=0.24.0->datasets) (1.1.5)\n",
            "Requirement already satisfied: charset-normalizer<4,>=2 in /usr/local/lib/python3.11/dist-packages (from requests>=2.32.2->datasets) (3.4.2)\n",
            "Requirement already satisfied: idna<4,>=2.5 in /usr/local/lib/python3.11/dist-packages (from requests>=2.32.2->datasets) (3.10)\n",
            "Requirement already satisfied: urllib3<3,>=1.21.1 in /usr/local/lib/python3.11/dist-packages (from requests>=2.32.2->datasets) (2.4.0)\n",
            "Requirement already satisfied: certifi>=2017.4.17 in /usr/local/lib/python3.11/dist-packages (from requests>=2.32.2->datasets) (2025.6.15)\n",
            "Requirement already satisfied: python-dateutil>=2.8.2 in /usr/local/lib/python3.11/dist-packages (from pandas->datasets) (2.9.0.post0)\n",
            "Requirement already satisfied: pytz>=2020.1 in /usr/local/lib/python3.11/dist-packages (from pandas->datasets) (2025.2)\n",
            "Requirement already satisfied: tzdata>=2022.7 in /usr/local/lib/python3.11/dist-packages (from pandas->datasets) (2025.2)\n",
            "Requirement already satisfied: aiohappyeyeballs>=2.3.0 in /usr/local/lib/python3.11/dist-packages (from aiohttp!=4.0.0a0,!=4.0.0a1->fsspec[http]<=2025.3.0,>=2023.1.0->datasets) (2.6.1)\n",
            "Requirement already satisfied: aiosignal>=1.1.2 in /usr/local/lib/python3.11/dist-packages (from aiohttp!=4.0.0a0,!=4.0.0a1->fsspec[http]<=2025.3.0,>=2023.1.0->datasets) (1.3.2)\n",
            "Requirement already satisfied: attrs>=17.3.0 in /usr/local/lib/python3.11/dist-packages (from aiohttp!=4.0.0a0,!=4.0.0a1->fsspec[http]<=2025.3.0,>=2023.1.0->datasets) (25.3.0)\n",
            "Requirement already satisfied: frozenlist>=1.1.1 in /usr/local/lib/python3.11/dist-packages (from aiohttp!=4.0.0a0,!=4.0.0a1->fsspec[http]<=2025.3.0,>=2023.1.0->datasets) (1.7.0)\n",
            "Requirement already satisfied: multidict<7.0,>=4.5 in /usr/local/lib/python3.11/dist-packages (from aiohttp!=4.0.0a0,!=4.0.0a1->fsspec[http]<=2025.3.0,>=2023.1.0->datasets) (6.6.3)\n",
            "Requirement already satisfied: propcache>=0.2.0 in /usr/local/lib/python3.11/dist-packages (from aiohttp!=4.0.0a0,!=4.0.0a1->fsspec[http]<=2025.3.0,>=2023.1.0->datasets) (0.3.2)\n",
            "Requirement already satisfied: yarl<2.0,>=1.17.0 in /usr/local/lib/python3.11/dist-packages (from aiohttp!=4.0.0a0,!=4.0.0a1->fsspec[http]<=2025.3.0,>=2023.1.0->datasets) (1.20.1)\n",
            "Requirement already satisfied: six>=1.5 in /usr/local/lib/python3.11/dist-packages (from python-dateutil>=2.8.2->pandas->datasets) (1.17.0)\n",
            "Downloading datasets-3.6.0-py3-none-any.whl (491 kB)\n",
            "\u001b[2K   \u001b[90m━━━━━━━━━━━━━━━━━━━━━━━━━━━━━━━━━━━━━━━━\u001b[0m \u001b[32m491.5/491.5 kB\u001b[0m \u001b[31m14.9 MB/s\u001b[0m eta \u001b[36m0:00:00\u001b[0m\n",
            "\u001b[?25hDownloading fsspec-2025.3.0-py3-none-any.whl (193 kB)\n",
            "\u001b[2K   \u001b[90m━━━━━━━━━━━━━━━━━━━━━━━━━━━━━━━━━━━━━━━━\u001b[0m \u001b[32m193.6/193.6 kB\u001b[0m \u001b[31m16.5 MB/s\u001b[0m eta \u001b[36m0:00:00\u001b[0m\n",
            "\u001b[?25hInstalling collected packages: fsspec, datasets\n",
            "  Attempting uninstall: fsspec\n",
            "    Found existing installation: fsspec 2025.3.2\n",
            "    Uninstalling fsspec-2025.3.2:\n",
            "      Successfully uninstalled fsspec-2025.3.2\n",
            "  Attempting uninstall: datasets\n",
            "    Found existing installation: datasets 2.14.4\n",
            "    Uninstalling datasets-2.14.4:\n",
            "      Successfully uninstalled datasets-2.14.4\n",
            "\u001b[31mERROR: pip's dependency resolver does not currently take into account all the packages that are installed. This behaviour is the source of the following dependency conflicts.\n",
            "gcsfs 2025.3.2 requires fsspec==2025.3.2, but you have fsspec 2025.3.0 which is incompatible.\u001b[0m\u001b[31m\n",
            "\u001b[0mSuccessfully installed datasets-3.6.0 fsspec-2025.3.0\n"
          ]
        }
      ]
    },
    {
      "cell_type": "code",
      "execution_count": 15,
      "metadata": {
        "colab": {
          "base_uri": "https://localhost:8080/"
        },
        "id": "qtx-RqtglSE3",
        "outputId": "4c572319-fa14-4ee8-d72a-61a3a355f592"
      },
      "outputs": [
        {
          "output_type": "execute_result",
          "data": {
            "text/plain": [
              "{'sentence_good': \"Katherine can't help herself.\",\n",
              " 'sentence_bad': \"Katherine can't help himself.\",\n",
              " 'field': 'morphology',\n",
              " 'linguistics_term': 'anaphor_agreement',\n",
              " 'UID': 'anaphor_gender_agreement',\n",
              " 'simple_LM_method': True,\n",
              " 'one_prefix_method': True,\n",
              " 'two_prefix_method': False,\n",
              " 'lexically_identical': False,\n",
              " 'pair_id': 0}"
            ]
          },
          "metadata": {},
          "execution_count": 15
        }
      ],
      "source": [
        "# iterate over the test suites\n",
        "\n",
        "#### YOUR CODE HERE ####\n",
        "test_suites = [\n",
        "    \"anaphor_gender_agreement\",\n",
        "    \"determiner_noun_agreement_with_adjective_1\",\n",
        "    \"animate_subject_passive\",\n",
        "    \"complex_NP_island\",\n",
        "    \"npi_present_1\",\n",
        "    \"superlative_quantifiers_1\",\n",
        "    \"existential_there_object_raising\",\n",
        "    \"principle_A_case_1\"\n",
        "]\n",
        "\n",
        "dataset = load_dataset(\"nyu-mll/blimp\", \"anaphor_gender_agreement\")\n",
        "# inspect the dataset\n",
        "dataset[\"train\"][0]"
      ]
    },
    {
      "cell_type": "code",
      "source": [
        "for suite in test_suites:\n",
        "    dataset = load_dataset(\"nyu-mll/blimp\", suite)\n",
        "    fields = set(item['field'] for item in dataset[\"train\"])\n",
        "    print(suite, fields)"
      ],
      "metadata": {
        "colab": {
          "base_uri": "https://localhost:8080/"
        },
        "id": "DutL9N9Uvn5l",
        "outputId": "fbbe5d41-e10c-4d18-d23c-b83cf63c6013"
      },
      "execution_count": 17,
      "outputs": [
        {
          "output_type": "stream",
          "name": "stdout",
          "text": [
            "anaphor_gender_agreement {'morphology'}\n",
            "determiner_noun_agreement_with_adjective_1 {'morphology'}\n",
            "animate_subject_passive {'syntax'}\n",
            "complex_NP_island {'syntax'}\n",
            "npi_present_1 {'semantics'}\n",
            "superlative_quantifiers_1 {'semantics'}\n",
            "existential_there_object_raising {'syntax_semantics'}\n",
            "principle_A_case_1 {'syntax_semantics'}\n"
          ]
        }
      ]
    },
    {
      "cell_type": "code",
      "execution_count": 18,
      "metadata": {
        "id": "khiFn10mlSE3"
      },
      "outputs": [],
      "source": [
        "# iterate over the single items of the test suite\n",
        "# hint: you can use code similar to the one in sheet 7.1\n",
        "\n",
        "# set up the model as a minicons scorer\n",
        "lm_scorer = scorer.IncrementalLMScorer(\n",
        "    \"allenai/OLMo-2-0425-1B-Instruct\",\n",
        "    device=device,\n",
        ")\n",
        "\n",
        "# create some lists to store the results\n",
        "### YOUR CODE HERE ###\n",
        "results = {}\n",
        "category_results = {}\n",
        "categories = {\n",
        "    \"anaphor_gender_agreement\": \"morphology\",\n",
        "    \"determiner_noun_agreement_with_adjective_1\": \"morphology\",\n",
        "    \"animate_subject_passive\": \"syntax\",\n",
        "    \"complex_NP_island\": \"syntax\",\n",
        "    \"npi_present_1\": \"semantics\",\n",
        "    \"superlative_quantifiers_1\": \"semantics\",\n",
        "    \"existential_there_object_raising\": \"syntax_semantics\",\n",
        "    \"principle_A_case_1\": \"syntax_semantics\"\n",
        "}\n",
        "\n",
        "for suite in test_suites:\n",
        "    dataset = load_dataset(\"nyu-mll/blimp\", suite)\n",
        "    correct = []\n",
        "\n",
        "    for item in dataset[\"train\"]:\n",
        "        # get the sentence pair\n",
        "        sent_good = item['sentence_good']\n",
        "        sent_bad = item['sentence_bad']\n",
        "\n",
        "        # compare the sentences as suggested in the task description\n",
        "        score_good = lm_scorer.sequence_score(sent_good)\n",
        "        score_bad = lm_scorer.sequence_score(sent_bad)\n",
        "\n",
        "        correct.append(score_good > score_bad)\n",
        "\n",
        "    acc = np.mean(correct)\n",
        "    results[suite] = acc\n",
        "\n",
        "    # save to the category list\n",
        "    cat = categories[suite]\n",
        "    if cat not in category_results:\n",
        "        category_results[cat] = []\n",
        "    category_results[cat].extend(correct)"
      ]
    },
    {
      "cell_type": "code",
      "execution_count": 19,
      "metadata": {
        "colab": {
          "base_uri": "https://localhost:8080/",
          "height": 390
        },
        "id": "cnEXRRZ1lSE3",
        "outputId": "02d5f7d5-4c25-4d0f-ef57-436d54520f03"
      },
      "outputs": [
        {
          "output_type": "display_data",
          "data": {
            "text/plain": [
              "<Figure size 1000x500 with 1 Axes>"
            ],
            "image/png": "[encoded data removed]"
          },
          "metadata": {}
        }
      ],
      "source": [
        "# calculate the performance by test suite\n",
        "### YOUR CODE HERE ###\n",
        "# The calculation process is shown in the last block\n",
        "\n",
        "# plot the results in a bar plot\n",
        "### YOUR CODE HERE ###\n",
        "import matplotlib.pyplot as plt\n",
        "\n",
        "plt.figure(figsize=(10, 5))\n",
        "plt.bar(results.keys(), results.values(), color=\"lightblue\")\n",
        "plt.xticks(rotation=45, ha=\"right\")\n",
        "plt.ylabel(\"Accuracy\")\n",
        "plt.title(\"Accuracy per grammatical phenomenon (test suite)\")\n",
        "plt.tight_layout()\n",
        "plt.show()"
      ]
    },
    {
      "cell_type": "code",
      "execution_count": 20,
      "metadata": {
        "colab": {
          "base_uri": "https://localhost:8080/",
          "height": 480
        },
        "id": "mKZlcy1rlSE4",
        "outputId": "af02f944-b7ff-4872-8553-2d9ee92ebc5b"
      },
      "outputs": [
        {
          "output_type": "display_data",
          "data": {
            "text/plain": [
              "<Figure size 800x500 with 1 Axes>"
            ],
            "image/png": "[encoded data removed]"
          },
          "metadata": {}
        }
      ],
      "source": [
        "# calculate the performance as described above by category and plot the results in a bar plot with CIs\n",
        "### YOUR CODE HERE ###\n",
        "import scipy.stats as stats\n",
        "\n",
        "avg_accs = {}\n",
        "cis = {}\n",
        "\n",
        "for cat, outcomes in category_results.items():\n",
        "    acc = np.mean(outcomes)\n",
        "    avg_accs[cat] = acc\n",
        "    ci = stats.t.interval(\n",
        "        0.95,\n",
        "        len(outcomes)-1,\n",
        "        loc=acc,\n",
        "        scale=stats.sem(outcomes)\n",
        "    )\n",
        "    cis[cat] = ci\n",
        "\n",
        "# plot bar plot with confidence intervals\n",
        "plt.figure(figsize=(8, 5))\n",
        "plt.bar(avg_accs.keys(), avg_accs.values(), yerr=[(top - avg_accs[k]) for k, (bot, top) in cis.items()], capsize=5, color=\"orange\")\n",
        "plt.ylabel(\"Average Accuracy\")\n",
        "plt.title(\"Average accuracy per linguistic field with 95% confidence intervals\")\n",
        "plt.tight_layout()\n",
        "plt.show()"
      ]
    },
    {
      "cell_type": "code",
      "source": [
        "# identify easiest and hardest test suites\n",
        "easiest = max(results, key=results.get)\n",
        "hardest = min(results, key=results.get)\n",
        "\n",
        "print(f\"Easiest phenomenon: {easiest} ({results[easiest]:.2%})\")\n",
        "print(f\"Hardest phenomenon: {hardest} ({results[hardest]:.2%})\")"
      ],
      "metadata": {
        "colab": {
          "base_uri": "https://localhost:8080/"
        },
        "id": "Ylc6zJWClEKm",
        "outputId": "9a2315f5-1f11-4375-dc32-c36e5f144c8e"
      },
      "execution_count": 21,
      "outputs": [
        {
          "output_type": "stream",
          "name": "stdout",
          "text": [
            "Easiest phenomenon: principle_A_case_1 (100.00%)\n",
            "Hardest phenomenon: complex_NP_island (65.30%)\n"
          ]
        }
      ]
    },
    {
      "cell_type": "markdown",
      "metadata": {
        "id": "pth1AXdQlSE4"
      },
      "source": [
        "## Exercise 2: Evaluating societal biases (13 points)"
      ]
    },
    {
      "cell_type": "markdown",
      "metadata": {
        "id": "Crvjc9PLlSE4"
      },
      "source": [
        "In this exercise, we will consider aspects of LLM performance which may have social implications and that are deeply interconnected with how humans use language. This task evaluates whether LLMs overrepresent certain cultures over others, which could be due to, e.g., imbalances over training data sources and languages.\n",
        "\n",
        "> Specifically, your task is to come up with an appropriate test item and evaluate whether LLMs exhibit certain cultural biases.\n",
        "> In this task, you have to construct your own multiple-choice test item for investigating cultural biases of LLMs, where, given a context, the different available response / continuation options would reflect preferences for responses typical for different cultures.\n",
        "> For instance, one response could be more acceptable under one particular cultural lens and another response under a different cultural background.\n",
        "> Your task is then to evaluate the performance of two LLMs: the mostly monolingual `gpt2-large` and the multilingual `bigscience/bloom-560m` model. The second part of the task is to complete the evaluation code and interpret the results by answering the question below.\n",
        "> Note that there obviously is no signle right answer to this, so we will assess the plausibility of your idea and the correctness of the code & interpretation.\n",
        "\n",
        "Here is a simple example of a test item. More explanations are in parentheses. You should provide analogous explanations in the answers to the questions below, but do not pass these to the LLMs during evaluations.\n",
        "\n",
        "\n",
        "Context 1: You are at a German supermarket. You walk up to the cashier and greet them by saying:\n",
        "\n",
        "Context 2: You are at an American supermarket. You walk up to the cashier and greet them by saying:\n",
        "\n",
        "A. Hello. (intuititvely, more likely in to be appropiate in the Germany context condition)\n",
        "\n",
        "B. Bye. (a generally inappropriate response)\n",
        "\n",
        "C. Hello, how are you? (intuitively, more likely to be appropriate in the US context condition; people usually don’t ask strangers ‘how are you’ in Germany)\n",
        "\n",
        "I would say: (insert each of the answer options separately here and calculate their log probability, given each of the contexts).\n"
      ]
    },
    {
      "cell_type": "markdown",
      "metadata": {
        "id": "Xz5xnmtElSE4"
      },
      "source": [
        "For reference about constructing datasets and inspiration, feel free to take a look at the [ETHICS dataset](https://arxiv.org/pdf/2008.02275), e.g., Fig. 2, where the authors came up with different continuations tapping into different conditions, given a context.\n",
        "\n",
        "> **Fill in your responses below.**\n",
        ">\n",
        "> 1. Your prompt (context 1 and 2, response options A-C; with explanations of the intuitive differences for each response option in respective cultural contexts):\n",
        "\n",
        "> Context 1: You receive a birthday gift from a friend in China and say:\\\n",
        "Context 2: You receive a birthday gift from a friend in the United States and say:\\\n",
        "A. “You really didn't have to. But thank you!”\n",
        "→ More typical in the Chinese context — humility and downplaying are common.\\\n",
        "B. “Wow, this is awesome! You know me so well!”\n",
        "→ More typical in the US context — enthusiastic appreciation is encouraged.\\\n",
        "C. “You shouldn't give people gifts; it creates unnecessary obligations.”\n",
        "→ Inappropriate in both contexts — socially awkward and dismissive.\n",
        "\n",
        "> 2. Your model log probabilities (please fill in the table below with the conditional log probabilities you retrieved with the code below for your respective item):\n",
        ">\n",
        "| Context / Option | GPT-2 | Bloom |\n",
        "|------------------|-------|-------|\n",
        "| context 1 + A      | -3.09   | -3.62   |\n",
        "| context 2 + A      | -3.04   | -3.61   |\n",
        "| context 1 + B      |  -2.76  | -2.80   |\n",
        "| context 2 + B      | -2.82   | -2.81   |\n",
        "| context 1 + C      |  -4.24  | -4.95   |\n",
        "| context 2 + C      | -4.27   | -4.94   |\n",
        "\n",
        "> 3. Do the models show a preference for a particular cultural setting (context 1 or context 2)? Is there evidence for whether cultural biases might be caused by training data?\n",
        "\n",
        "> Yes, the models prefer the context 1 (American culture). There is an evidence for the cultural biases. In whichever context, the answers with the highest scores are always American-style answers.\n",
        "\n",
        "> 4. Are there aspects of the prompt that might influence your results? Please provide a brief justification / example why (not). Write 2 sentences max.\n",
        "\n",
        "> Yes, the wording and cultural framing of the prompt can strongly influence results by implicitly signaling which response is more appropriate. For example, mentioning “a friend in China” may still bias the model toward Western-style responses if the prompt lacks culturally specific linguistic cues the model associates with Chinese contexts."
      ]
    },
    {
      "cell_type": "code",
      "execution_count": 3,
      "metadata": {
        "id": "B07kz1pClSE4"
      },
      "outputs": [],
      "source": [
        "from minicons import scorer\n",
        "import pandas as pd"
      ]
    },
    {
      "cell_type": "code",
      "execution_count": 4,
      "metadata": {
        "id": "qBAzeQoNlSE4"
      },
      "outputs": [],
      "source": [
        "import torch\n",
        "if torch.cuda.is_available():\n",
        "    device = torch.device('cuda')\n",
        "elif torch.backends.mps.is_available():\n",
        "    device = torch.device(\"mps\")\n",
        "else:\n",
        "    device = torch.device('cpu')"
      ]
    },
    {
      "cell_type": "code",
      "execution_count": 21,
      "metadata": {
        "colab": {
          "base_uri": "https://localhost:8080/"
        },
        "id": "aaQ7xyJZlSE4",
        "outputId": "013b5af1-fe51-4b73-efde-b9d6a59993b6"
      },
      "outputs": [
        {
          "output_type": "stream",
          "name": "stdout",
          "text": [
            "Answer scores for GPT-2: [-3.0908210277557373, -2.756493330001831, -4.239937782287598]\n",
            "Answer scores for Bloom: [-3.6195831298828125, -2.8001022338867188, -4.951272487640381]\n",
            "Answer scores for GPT-2: [-3.0422749519348145, -2.8165435791015625, -4.2738037109375]\n",
            "Answer scores for Bloom: [-3.613720655441284, -2.8097026348114014, -4.942681789398193]\n",
            "['us', 'us']\n",
            "['us', 'us']\n"
          ]
        }
      ],
      "source": [
        "# here is some starter code; please fill in your code / comments where it says #### YOUR CODE / COMMENT HERE ####\n",
        "\n",
        "# set up a scorer\n",
        "gpt2_scorer = scorer.IncrementalLMScorer(\n",
        "    ### YOUR CODE HERE ###\n",
        "    'gpt2-large',\n",
        "    device=device,\n",
        ")\n",
        "\n",
        "bloom_scorer = scorer.IncrementalLMScorer(\n",
        "    ### YOUR CODE HERE ###\n",
        "    'bigscience/bloom-560m',\n",
        "    device=device\n",
        ")\n",
        "\n",
        "# initialize list for storing the predictions\n",
        "gpt2_predictions = []\n",
        "bloom_predictions = []\n",
        "answer_keys = [\"ch\", \"us\", \"nonsense\"]\n",
        "\n",
        "# iterate over contexts\n",
        "contexts = [{\"prompt\": \"You receive a birthday gift from a friend in China and say:\",\n",
        "            \"options\": [\"You really didn't have to. But thank you!\",\n",
        "            \"Wow, this is awesome! You know me so well!\",\n",
        "                        \"You shouldn't give people gifts; it creates unnecessary obligations\"]},\n",
        "            {\"prompt\": \"You receive a birthday gift from a friend in the United States and say:\",\n",
        "            \"options\": [\"You really didn't have to. But thank you!\",\n",
        "            \"Wow, this is awesome! You know me so well!\",\n",
        "                        \"You shouldn't give people gifts; it creates unnecessary obligations\"]}]\n",
        "\n",
        "for context in range(len(contexts)):\n",
        "    # format / provide  the possible answer options from your vignette\n",
        "    answer_options = contexts[context][\"options\"]\n",
        "    # pass a list of contexts and a list of continuations to be scored\n",
        "    answer_scores_gpt2 = gpt2_scorer.conditional_score(\n",
        "        # format the question into a list of same length as the number of answer options\n",
        "        ### YOUR CODE HERE ###,\n",
        "        [contexts[context][\"prompt\"]] * len(answer_options),\n",
        "        answer_options\n",
        "    )\n",
        "    answer_scores_bloom = bloom_scorer.conditional_score(\n",
        "        # format the question into a list of same length as the number of answer options\n",
        "        ### YOUR CODE HERE ###,\n",
        "        [contexts[context][\"prompt\"]] * len(answer_options),\n",
        "        answer_options\n",
        "    )\n",
        "\n",
        "    # print the scores\n",
        "    print(f'Answer scores for GPT-2: {answer_scores_gpt2}')\n",
        "    print(f'Answer scores for Bloom: {answer_scores_bloom}')\n",
        "\n",
        "    # check / inspect which answer has the highest score and which answer type (i.e., \"culture\") it corresponds to\n",
        "    ### YOUR CODE / COMMENT HERE ###\n",
        "    # select the answer with highest score in one context\n",
        "    gpt2_best = answer_scores_gpt2.index(max(answer_scores_gpt2))\n",
        "    bloom_best = answer_scores_bloom.index(max(answer_scores_bloom))\n",
        "\n",
        "    # store the answers with the highest scores in two different contexts\n",
        "    gpt2_predictions.append(answer_keys[gpt2_best])\n",
        "    bloom_predictions.append(answer_keys[bloom_best])\n",
        "\n",
        "print(gpt2_predictions) # ['us', 'us']\n",
        "print(bloom_predictions) # ['us', 'us']\n",
        "# The models prefer American answers in whichever context, probably because the models were trained with English/American dataset"
      ]
    },
    {
      "cell_type": "markdown",
      "metadata": {
        "id": "KYElvwD-lSE5"
      },
      "source": [
        "## Exercise 3: Theory of mind evaluations of LLMs (14 points)\n",
        "\n",
        "One capability that has been much debated in the context oflanguage models is so-called *theory-of-mind* (ToM) reasoning, a capability to reason about other people's latent mental states like beliefs and knowledge and how they influence the person's behavior.\n",
        "\n",
        "One well-known task to investigate theory of mind capabilities is the so-called False Belief task.\n",
        "We will use a benchmark [BigToM](https://arxiv.org/abs/2306.15448) that contains items with variations of this task generated trough LMs, specifically a subset of the forward and backward belief conditions.\n",
        "Please download the relevant data [here](https://github.com/CogSciPrag/Understanding-LLMs-course/tree/main/understanding-llms/homework/data/bigtom.csv).\n",
        "\n",
        "> Your task here is to:\n",
        ">\n",
        "> 1. Take a look at the paper to familiarize yourself with the benchmark. In max. two sentences per condition, explain what the forward and backward belief conditions of the benchmark test.\n",
        "> 2. Complete the following code to evaluate the Olmo model from exercise 1 on the ToM benchmark (fill in the slots with ###YOUR CODE / COMMENT HERE ###). Specifically:\n",
        ">\n",
        ">   a. Evaluate the performance of the model when scoring the linguistic continuations of the sentence and comparing the respective conditional log probabilities. Compare the performance of the model in the false belief and the true belief conditions.\n",
        ">\n",
        ">   b. Evaluate the performance of the model when formatting the prompt in a multiple choice format, where the two continuations for each prompt are included in the prompt along with labels (e.g., A., B.). Then, let the model generate a few tokens and check if the correct answer label was predicted. . Compare the performance of the model in the false belief and the true belief conditions.\n",
        ">\n",
        ">   c. Does the model perform better under one of the evaluating approaches? Is it similar across true and false beliefs?"
      ]
    },
    {
      "cell_type": "code",
      "execution_count": null,
      "metadata": {
        "id": "-wJMQSANlSE5"
      },
      "outputs": [],
      "source": [
        "# note: only load the model again if you are in a different runtime than when you solved exercise 1\n",
        "lm_scorer = scorer.IncrementalLMScorer(\n",
        "    \"allenai/OLMo-2-0425-1B-Instruct\",\n",
        "    device\n",
        " )"
      ]
    },
    {
      "cell_type": "code",
      "execution_count": null,
      "metadata": {
        "id": "3nLKNadhlSE5"
      },
      "outputs": [],
      "source": [
        "# read the data (Note: you have to upload the file to your session in colab)\n",
        "tom_back = pd.read_csv(\"data/bigtom.csv\")\n",
        "\n",
        "# inspect the data and construct the evaluation prompts for standard scoring of sentence completions\n",
        "tom_back[\"prompt_tb\"] = #### YOUR CODE HERE ####\n",
        "tom_back[\"prompt_fb\"] = #### YOUR CODE HERE ####\n",
        "\n",
        "# calculate the scores of the true belief condition with the true continuations\n",
        "tb_scores_true = lm_scorer.conditional_score(\n",
        "    # format the prompt into a list of same length as the number of answer options\n",
        "    tom_back[\"prompt_tb\"].tolist(),\n",
        "    #### YOUR CODE HERE ####\n",
        ")\n",
        "# calculate the scores of the true belief condition with the false continuations\n",
        "tb_scores_false = lm_scorer.conditional_score(\n",
        "    tom_back[\"prompt_tb\"].tolist(),\n",
        "    #### YOUR CODE HERE ####\n",
        ")\n",
        "\n",
        "# calculate the accuracy of the true belief condition\n",
        "#### YOUR CODE HERE ####\n",
        "print(\"True belief accuracy main \", tb_accuracy.mean())\n",
        "\n",
        "# calculate the scores of the false belief condition with the true continuations\n",
        "fb_scores_true = lm_scorer.conditional_score(\n",
        "    ### YOUR CODE HERE ###,\n",
        "\n",
        ")\n",
        "# calculate the scores of the false belief condition with the false continuations\n",
        "fb_scores_false = lm_scorer.conditional_score(\n",
        "    #### YOUR CODE HERE ####\n",
        ")\n",
        "# calculate the accuracy of the false belief condition\n",
        "#### YOUR CODE HERE ####\n",
        "print(\"False belief accuracy main \", fb_accuracy.mean())"
      ]
    },
    {
      "cell_type": "code",
      "execution_count": null,
      "metadata": {
        "id": "yE9oWe1wlSE5"
      },
      "outputs": [],
      "source": [
        "# create the prompt for the multiple choice condition\n",
        "def create_forced_choice_prompt(row):\n",
        "    \"\"\"\n",
        "    Construct a prompt with the story, the trigger sentence,\n",
        "    the task to choose the correct continuation for the the final sentence prefix,\n",
        "    and the two continuations appended to the labels A, B.\n",
        "    The order of the continuations is shuffled.\n",
        "\n",
        "    Input:\n",
        "    ------\n",
        "    row: pandas Series\n",
        "        Contains the story, trigger sentences, final sentence prefix, and continuations\n",
        "\n",
        "    Returns:\n",
        "    ------\n",
        "    prompt_forced_choice_tb: str\n",
        "        Forced choice prompt for true belief condition\n",
        "    prompt_forced_choice_fb: str\n",
        "        Forced choice prompt for false belief condition\n",
        "    correct_label_tb: str\n",
        "        Correct label for the correct true belief continuation (either \"A\" or \"B\", depending on the shuffling of the order of continuations)\n",
        "    correct_label_fb: str\n",
        "        Correct label for the correct false belief continuation (either \"A\" or \"B\", depending on the shuffling of the order of continuations)\n",
        "    \"\"\"\n",
        "    # shuffle the order of the true and false continuations for both conditions\n",
        "\n",
        "    tb_order = np.random.choice([\"tb_correct_continuation\", \"fb_correct_continuation\"], replace=False, size=2).tolist()\n",
        "    fb_order = np.random.choice([\"tb_correct_continuation\", \"fb_correct_continuation\"], replace=False, size=2).tolist()\n",
        "    task = \" Choose the correct continuation for the following sentence: \"\n",
        "    # create the prompt for the forced choice task\n",
        "    prompt_forced_choice_tb = ### YOUR CODE HERE ###\n",
        "    prompt_forced_choice_fb = ### YOUR CODE HERE ###\n",
        "    # get the correct labels for the true and false belief conditions\n",
        "    correct_label_tb = [\"A\", \"B\"][### YOUR CODE HERE ###]\n",
        "    correct_label_fb = [\"A\", \"B\"][### YOUR CODE HERE ###]\n",
        "    return prompt_forced_choice_tb, prompt_forced_choice_fb, correct_label_tb, correct_label_fb\n",
        "\n",
        "\n",
        "tom_fc_generation = tom_back.copy()\n",
        "\n",
        "tom_fc_generation[[\n",
        "    \"prompt_forced_choice_tb\",\n",
        "    \"prompt_forced_choice_fb\",\n",
        "    \"correct_label_tb\",\n",
        "    \"correct_label_fb\"\n",
        "]] = tom_back.apply(\n",
        "    lambda row: create_forced_choice_prompt(row),\n",
        "    axis=1,\n",
        "    result_type=\"expand\"\n",
        ")"
      ]
    },
    {
      "cell_type": "code",
      "execution_count": null,
      "metadata": {
        "id": "fn7KQuU8lSE5"
      },
      "outputs": [],
      "source": [
        "# Now evaluate the forced choice condition with generation\n",
        "free_generation_accuracy_tb = []\n",
        "free_generation_accuracy_fb = []\n",
        "\n",
        "# set up the generation pipeline\n",
        "\n",
        "from transformers import pipeline\n",
        "generation_pipeline = pipeline(\n",
        "    \"text-generation\",\n",
        "    model = lm_scorer.model,\n",
        "    device=device,\n",
        "    tokenizer=lm_scorer.tokenizer,\n",
        ")\n",
        "\n",
        "for i, r in tom_fc_generation.iterrows():\n",
        "    # generate the continuation for the true belief condition\n",
        "    pred = generation_pipeline(\n",
        "        ### YOUR CODE HERE ###\n",
        "        max_length=5,\n",
        "        temperature=0.7\n",
        "    )\n",
        "    # check if the prediction contains the correct label\n",
        "    ### YOUR CODE HERE ###\n",
        "        free_generation_accuracy_tb.append(1)\n",
        "    else:\n",
        "        free_generation_accuracy_tb.append(0)\n",
        "    # generate the continuation for the false belief condition\n",
        "    pred = generation_pipeline(\n",
        "        ### YOUR CODE HERE ###\n",
        "        max_length=5,\n",
        "        temperature=0.7\n",
        "    )\n",
        "    # check if the prediction contains the correct label\n",
        "    ### YOUR CODE HERE ###\n",
        "        free_generation_accuracy_fb.append(1)\n",
        "    else:\n",
        "        free_generation_accuracy_fb.append(0)\n",
        "\n",
        "# print the results\n",
        "### YOUR CODE HERE ###"
      ]
    },
    {
      "cell_type": "markdown",
      "metadata": {
        "id": "1VOV4-8ulSE5"
      },
      "source": [
        "## Exercise 4: How human-like are Llama's surprisals? (22 points)"
      ]
    },
    {
      "cell_type": "markdown",
      "metadata": {
        "id": "kyM6Un0VlSE5"
      },
      "source": [
        "More recently, work more informed by human language use and processing has compared LLMs’ performance to aspects of human behavior. Here, the assessment of LLMs is guided more by the question of how human-like certain aspects of its performance are. For instance, we might whether LLMs' 'knowledge' of language is comparable to human knowledge, and, in particular, whether the processing of language, given the knowledge , can be compared via system-appropriate linking measurements.\n",
        "\n",
        "Your task in this exercise is to assess whether the *surprisal* of different language models is comparable to human *reading times*, when it comes to processing subject-verb agreement. The linking hypothesis is that these can be considered the respective predictability, and therefore, processing load indicators.\n",
        "The conceptual ideas and the data are taken from [Wilcox et al. (2021)](https://arxiv.org/pdf/2106.03232) which was discussed in the lecture. Please read the sections 1-2.2 for the background (optionally, the rest, if you want).\n",
        "The data can be downloaded [here](https://github.com/CogSciPrag/Understanding-LLMs-course/tree/main/understanding-llms/homework/data/SVA_data.csv).\n",
        "\n",
        "The data provides human RTs and LM surprisals in different conditions for sentences where the subject and the verb either match (i.e., agree) or mismatch in terms of number. This is the main condition. Furthermore, the agreement manipulation occurs in different syntactic conditions, and for plural and singular nouns. Here are examples from the different syntactic conditions:\n",
        "* SRC (subject relative clause modifier):\n",
        "  * mismatch plural: The pilots that injured the teacher brings love to people.\n",
        "  * match plural: The pilots that injured the teacher bring love to people.\n",
        "* ORC (object relative clause modifier):\n",
        "  * mismatch plural: The ministers that the manager injured knows tennis.\n",
        "  * match plural: The ministers that the manager injured know tennis.\n",
        "* PP (prepositional phrase modifier):\n",
        "  * mismatch plural: The executives next to the teacher is good.\n",
        "  * match plural: The executives next to the teacher are good.\n",
        "\n",
        "The prediction is that humans and models should have difficulty processing the mismatched noun, both in the singular and the plural condition.\n",
        "\n",
        "> Your task is to complete / provide the following code and answer the following questions:\n",
        "> 1. Formulate a quantitatively testable hypothesis operationalizing the prediction above. I.e., formulate something like: if the prediction is true, X should be larger than Y.\n",
        "> 2. Provide respective examples for the singular condition.\n",
        "> 3. Inspect the data. What are the units of the provided results?\n",
        "> 4. Based on your hypothesis above, for each trial, calculate whether it holds or not. Plot the proportion of trials where your hypothesis is borne out (i.e, the accuracy), for humans and each model, in the singular and the plural condition. (Hint: use a barplot)\n",
        "> 5. Based on visual inspection, does any model match human performance?\n",
        "> 6. Is either of the number conditions more difficult to process for humans or LMs?\n",
        "> 7. Select the results for Llama and humans only. Is the processing 'difficulty' of Llama correlated with the processing slowdown of humans (across singular / plural conditions)? Interpret the correlation coefficient."
      ]
    },
    {
      "cell_type": "code",
      "execution_count": null,
      "metadata": {
        "id": "SG3fmTOmlSE5"
      },
      "outputs": [],
      "source": [
        "df = pd.read_csv(\"data/SVA_data.csv\")\n",
        "df.head()"
      ]
    },
    {
      "cell_type": "code",
      "execution_count": null,
      "metadata": {
        "id": "pzsErdz2lSE5"
      },
      "outputs": [],
      "source": [
        "#### YOUR CODE HERE FOR CALCULATING HYPOTHESIS METRICS AND PLOTTING ####"
      ]
    },
    {
      "cell_type": "code",
      "execution_count": null,
      "metadata": {
        "id": "pOHtPoP1lSE5"
      },
      "outputs": [],
      "source": [
        "# barplot of the results, by model and by condition (plural vs. singular)\n",
        "### YOUR CODE HERE ###\n",
        "\n"
      ]
    },
    {
      "cell_type": "code",
      "execution_count": null,
      "metadata": {
        "id": "B6Fj3KM1lSE6"
      },
      "outputs": [],
      "source": [
        "# correlation analysis\n",
        "#### YOUR CODE HERE ###"
      ]
    }
  ],
  "metadata": {
    "kernelspec": {
      "display_name": "Python 3",
      "name": "python3"
    },
    "language_info": {
      "codemirror_mode": {
        "name": "ipython",
        "version": 3
      },
      "file_extension": ".py",
      "mimetype": "text/x-python",
      "name": "python",
      "nbconvert_exporter": "python",
      "pygments_lexer": "ipython3",
      "version": "3.10.14"
    },
    "colab": {
      "provenance": [],
      "gpuType": "T4",
      "include_colab_link": true
    },
    "accelerator": "GPU"
  },
  "nbformat": 4,
  "nbformat_minor": 0
}