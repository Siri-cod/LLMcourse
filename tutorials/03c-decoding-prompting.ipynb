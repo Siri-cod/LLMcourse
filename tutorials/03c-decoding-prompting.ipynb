{
  "cells": [
    {
      "cell_type": "markdown",
      "metadata": {
        "id": "view-in-github",
        "colab_type": "text"
      },
      "source": [
        "<a href=\"https://colab.research.google.com/github/Siri-cod/LLMcourse/blob/main/tutorials/03c-decoding-prompting.ipynb\" target=\"_parent\"><img src=\"https://colab.research.google.com/assets/colab-badge.svg\" alt=\"Open In Colab\"/></a>"
      ]
    },
    {
      "cell_type": "markdown",
      "metadata": {
        "id": "PxzKb3POJpqw"
      },
      "source": [
        "Sheet 3.3: Prompting & Decoding\n",
        "=======\n",
        "**Author**: Polina Tsvilodub & Michael Franke"
      ]
    },
    {
      "cell_type": "markdown",
      "metadata": {
        "id": "lDb8HhKCJpqz"
      },
      "source": [
        "This sheet provides more details on concepts that have been mentioned in passing in the previous sheets, and provides some practical examples and exercises for prompting techniques that have been covered in lecture four. Therefore, the learning goals for this sheet are:\n",
        "* take a closer look and understand various decoding schemes,\n",
        "* understand the temperature parameter,\n",
        "* see a few practical examples of prompting techniques from the lecture."
      ]
    },
    {
      "cell_type": "markdown",
      "metadata": {
        "id": "ynjXP7yUJpqz"
      },
      "source": [
        "## Decoding schemes\n",
        "\n",
        "This part of this sheet is a close replication of [this](https://michael-franke.github.io/npNLG/06-LSTMs/06d-decoding-GPT2.html) sheet.\n",
        "\n",
        "This topic addresses the following question: Given a language model that outputs a next-word probability, how do we use this to actually generate naturally sounding text? For that, we need to choose a single next token from the distribution, which we will then feed back to the model, together with the preceding tokens, so that it can generate the next one. This inference procedure is repeated, until the EOS token is chosen, or a maximal sequence length is achieved. The procedure of how exactly to get that single token from the distribution is call *decoding scheme*. Note that \"decoding schemes\" and \"decoding strategies\" refer to the same concept and are used interchangeably.\n",
        "\n",
        "We have already discussed decoding schemes in lecture 02 (slide 25). The following introduces these schemes in more detail again and provides example code for configuring some of them.\n",
        "\n",
        "> <strong><span style=&ldquo;color:#D83D2B;&rdquo;>Exercise 3.3.1: Decoding schemes</span></strong>\n",
        ">\n",
        "> Please read through the following introduction and look at the provided code.\n",
        "> 1. With the help of the example and the documentation, please complete the code (where it says \"### YOUR CODE HERE ####\") for all the decoding schemes.\n",
        "\n",
        "Common decoding strategies are:\n",
        "* **pure sampling**: In a pure sampling approach, we just sample each next word with exactly the probability assigned to it by the LM. Notice that this process, therefore, is non-determinisitic. We can force replicable results, though, by setting a *seed*.\n",
        "* **Softmax sampling**: In soft-max sampling, the probablity of sampling word $w_i$ is $P_{LM} (w_i \\mid w_{1:i-1}) \\propto \\exp(\\frac{1}{\\tau} P_{LM}(w_i \\mid w_{1:i-1}))$, where $\\tau$ is a *temperature parameter*.\n",
        "  * The *temperature parameter* is also often available for closed-source models like the GPT family. It is often said to change the \"creativity\" of the output.\n",
        "* **greedy sampling**: In greedy sampling, we don’t actually sample but just take the most likely next-word at every step. Greedy sampling is equivalent to setting $\\tau = 0$ for soft-max sampling. It is also sometimes referred to as *argmax* decoding.\n",
        "* **beam search**: In simplified terms, beam search is a parallel search procedure that keeps a number $k$ of path probabilities open at each choice point, dropping the least likely as we go along. (There is actually no unanimity in what exactly beam search means for NLG.)\n",
        "* **top-$k$ sampling**: his sampling scheme looks at the $k$ most likely next-words and samples from so that: $$P_{\\text{sample}}(w_i  \\mid w_{1:i-1}) \\propto \\begin{cases} P_{M}(w_i \\mid w_{1:i-1}) & \\text{if} \\; w_i \\text{ in top-}k \\\\ 0 & \\text{otherwise} \\end{cases}$$\n",
        "* **top-$p$ sampling**: Top-$p$ sampling is similar to top-$k$ sampling, but restricts sampling not to the top-$k$ most likely words (so always the same number of words), but the set of most likely words the summed probability of which does not exceed threshold $p$.\n",
        "\n",
        "The within the `transformers` package, for all causal LMs, the `.generate()` function is available which allows to sample text from the model (remember the brief introduction in [sheet 2.5](https://cogsciprag.github.io/Understanding-LLMs-course/tutorials/02e-intro-to-hf.html)). Configuring this function via different values and combinations of various parameters allows to sample text with the different decoding schemes described above. The respective documentation can be found [here](https://huggingface.co/docs/transformers/v4.40.2/en/generation_strategies#decoding-strategies). The same configurations can be passed to the `pipeline` endpoint which we have seen in the same sheet."
      ]
    },
    {
      "cell_type": "markdown",
      "metadata": {
        "id": "o8otaiUYJpq0"
      },
      "source": [
        "Check out [this](https://medium.com/@harshit158/softmax-temperature-5492e4007f71) blog post for very noce visualizations and more detials on the *temperature* parameter.\n",
        "\n",
        "Please complete the code below. GPT-2 is used as an example model, but this works exactly the same with any other causal LM from HF."
      ]
    },
    {
      "cell_type": "code",
      "execution_count": 1,
      "metadata": {
        "id": "B0I0Ep0ZmdtI",
        "tags": [
          "hide-cell"
        ]
      },
      "outputs": [],
      "source": [
        "from transformers import AutoModelForCausalLM, AutoTokenizer\n",
        "import torch\n",
        "import pandas as pd\n",
        "import numpy as np"
      ]
    },
    {
      "cell_type": "code",
      "execution_count": 2,
      "metadata": {
        "colab": {
          "base_uri": "https://localhost:8080/"
        },
        "id": "pGDJByn7mdtJ",
        "outputId": "d610d0ea-1474-4e7c-a804-cca0b0326255"
      },
      "outputs": [
        {
          "output_type": "stream",
          "name": "stdout",
          "text": [
            "Device: cuda\n"
          ]
        }
      ],
      "source": [
        "# define computational device\n",
        "if torch.cuda.is_available():\n",
        "    device = torch.device(\"cuda\")\n",
        "    print(f\"Device: {device}\")\n",
        "elif torch.backends.mps.is_available():\n",
        "    device = torch.device(\"mps\")\n",
        "    print(f\"Device: {device}\")\n",
        "else:\n",
        "    device = torch.device(\"cpu\")\n",
        "    print(f\"Device: {device}\")"
      ]
    },
    {
      "cell_type": "code",
      "execution_count": 3,
      "metadata": {
        "colab": {
          "base_uri": "https://localhost:8080/",
          "height": 333,
          "referenced_widgets": [
            "5548c0db76b24d638eab977339183b3e",
            "6936890e797348848364ce9b2100f7ff",
            "a7a11017242045b3a80740b38203182c",
            "1cc9f49016f343059069095c5f1fc3a9",
            "7f60b18c795f489f89a1fc1c8c66db88",
            "4bafdb10cbe54370874bedb845c3f2da",
            "67aa620862ec4c56934f13f6e74acd82",
            "745e980e02804f99bb3aece77339cbd6",
            "7a39c41370fe4948ade4a8928e7800ac",
            "8c66858a4691493d8abfcdf1c0eab450",
            "450c22b6ba5f45988601c3ed07d7cb9a",
            "0276a0fd8d43447fa3d9d22214de0ae8",
            "be4fccbaef0e41d5a3bdd8e925ccbdc4",
            "30f16c01e90d41658995064e6935abe2",
            "a1c0bdeb49a64c7688502b68d8e2139a",
            "f3ca2ca3d0ce4957b806c30855561793",
            "f044f02af10c4e6e861c7c078c476f5a",
            "be8c14d240b6496b9ffc89444af14acb",
            "e0459e561ce84ee281cecc6494bf5e57",
            "ddf54fa034cc42b4b60d83fc07676520",
            "547bbd2ac5984b0fa3fedb39807234bc",
            "4565a6f573b748e08d6b17ecd93a6a7f",
            "b672df30de4d4ddd9b74b7a15d3c9953",
            "f745982ed31241128762b058023204c5",
            "537d9d0d9cee44389f8ecac809a82abf",
            "c483d450a8564bc5a1b2e8c0bd5560f2",
            "e801505f726041608f0ece4ce0a53ebb",
            "4179df8c9d71498db116b606663066a6",
            "78ec368f49e04364bb73fd2fb8747e9a",
            "c196cd4b6d8c4c5f9da83a4314aeb755",
            "61d905af3dac47079f40ca940bfa936c",
            "78c60f57f48446d9a0bccaeae1704358",
            "0ffd6cf92f8b46b68a452454c98e72ca",
            "cf52a69ec2a54ae1958bf75831db534c",
            "bcf585631d864f19ab139625999f08e9",
            "fb186a94a5de46cfbbe81f386318aba2",
            "bda060e541ff4f0d9e68303a783b78ac",
            "83f4e61427d04df08c71b565a89d51b1",
            "91a4f502d9ba4f9a80ac3439cbc6e8b5",
            "7fea0167b5094a77a6b8778c6dbf0f85",
            "3aacfc7c4ec1479c9fc7e27d465832f1",
            "e4e1fc645ef249028dc5e3acaf24af24",
            "91e985d485ce48aea62e0aedf119846d",
            "de90e692b3ec48c58aff19d7c37aa336",
            "9f50ce4e1ecc4e8884e409f4e76e3d62",
            "35f5373aef494d44be6024f292a5162b",
            "d7948ef663d541bdab355680990cec47",
            "5dfb7b3440514b41ae5011fc563950e8",
            "cba2c74bbadc437ea1f1a4ebcad7ea9a",
            "063052b8d33c409ab0aa237d1af4452c",
            "c940b29209b841f58d38bdc92bce272e",
            "6c7c735a12444423a73b64124371a848",
            "3e241a2b9dca4fe9b7977325a9205955",
            "2ac53aae77a246bb8672360e15660da4",
            "76194ff7b7984b2ab14a20e6c141c814"
          ]
        },
        "id": "RBK6vNuUmdtK",
        "outputId": "f8ee81f9-2ca5-47af-ee4c-b32bc80812ec"
      },
      "outputs": [
        {
          "output_type": "stream",
          "name": "stderr",
          "text": [
            "/usr/local/lib/python3.11/dist-packages/huggingface_hub/utils/_auth.py:94: UserWarning: \n",
            "The secret `HF_TOKEN` does not exist in your Colab secrets.\n",
            "To authenticate with the Hugging Face Hub, create a token in your settings tab (https://huggingface.co/settings/tokens), set it as secret in your Google Colab and restart your session.\n",
            "You will be able to reuse this secret in all of your notebooks.\n",
            "Please note that authentication is recommended but still optional to access public models or datasets.\n",
            "  warnings.warn(\n"
          ]
        },
        {
          "output_type": "display_data",
          "data": {
            "text/plain": [
              "tokenizer_config.json:   0%|          | 0.00/396 [00:00<?, ?B/s]"
            ],
            "application/vnd.jupyter.widget-view+json": {
              "version_major": 2,
              "version_minor": 0,
              "model_id": "5548c0db76b24d638eab977339183b3e"
            }
          },
          "metadata": {}
        },
        {
          "output_type": "display_data",
          "data": {
            "text/plain": [
              "tokenizer.json:   0%|          | 0.00/2.11M [00:00<?, ?B/s]"
            ],
            "application/vnd.jupyter.widget-view+json": {
              "version_major": 2,
              "version_minor": 0,
              "model_id": "0276a0fd8d43447fa3d9d22214de0ae8"
            }
          },
          "metadata": {}
        },
        {
          "output_type": "display_data",
          "data": {
            "text/plain": [
              "special_tokens_map.json:   0%|          | 0.00/99.0 [00:00<?, ?B/s]"
            ],
            "application/vnd.jupyter.widget-view+json": {
              "version_major": 2,
              "version_minor": 0,
              "model_id": "b672df30de4d4ddd9b74b7a15d3c9953"
            }
          },
          "metadata": {}
        },
        {
          "output_type": "display_data",
          "data": {
            "text/plain": [
              "config.json:   0%|          | 0.00/570 [00:00<?, ?B/s]"
            ],
            "application/vnd.jupyter.widget-view+json": {
              "version_major": 2,
              "version_minor": 0,
              "model_id": "cf52a69ec2a54ae1958bf75831db534c"
            }
          },
          "metadata": {}
        },
        {
          "output_type": "stream",
          "name": "stderr",
          "text": [
            "Xet Storage is enabled for this repo, but the 'hf_xet' package is not installed. Falling back to regular HTTP download. For better performance, install the package with: `pip install huggingface_hub[hf_xet]` or `pip install hf_xet`\n",
            "WARNING:huggingface_hub.file_download:Xet Storage is enabled for this repo, but the 'hf_xet' package is not installed. Falling back to regular HTTP download. For better performance, install the package with: `pip install huggingface_hub[hf_xet]` or `pip install hf_xet`\n"
          ]
        },
        {
          "output_type": "display_data",
          "data": {
            "text/plain": [
              "model.safetensors:   0%|          | 0.00/2.93G [00:00<?, ?B/s]"
            ],
            "application/vnd.jupyter.widget-view+json": {
              "version_major": 2,
              "version_minor": 0,
              "model_id": "9f50ce4e1ecc4e8884e409f4e76e3d62"
            }
          },
          "metadata": {}
        }
      ],
      "source": [
        "\n",
        "tokenizer = AutoTokenizer.from_pretrained(\"EleutherAI/Pythia-1.4b\")\n",
        "model = AutoModelForCausalLM.from_pretrained(\n",
        "    \"EleutherAI/Pythia-1.4b\",\n",
        "    # trust_remote_code=True,\n",
        "    torch_dtype=torch.float16,\n",
        ").to(device)"
      ]
    },
    {
      "cell_type": "code",
      "execution_count": 8,
      "metadata": {
        "colab": {
          "base_uri": "https://localhost:8080/"
        },
        "id": "uTHTnBcpmdtL",
        "outputId": "28a57474-2423-4be9-d4ea-acd8f0608d20"
      },
      "outputs": [
        {
          "output_type": "stream",
          "name": "stderr",
          "text": [
            "The attention mask and the pad token id were not set. As a consequence, you may observe unexpected behavior. Please pass your input's `attention_mask` to obtain reliable results.\n",
            "Setting `pad_token_id` to `eos_token_id`:0 for open-end generation.\n"
          ]
        },
        {
          "output_type": "stream",
          "name": "stdout",
          "text": [
            "\n",
            "Input: This class is awesome. Sentiment: positive\n",
            "Input: This class is terrible. Sentiment: neutral\n",
            "Input: The class is informative. Sentiment: neutral\n",
            "Input: The class is my favourite! Sentiment: \n",
            "Input: The class is terrible. Sentiment\n"
          ]
        }
      ],
      "source": [
        "# few shot prompting\n",
        "\n",
        "few_shot_prompt = \"\"\"\n",
        "Input: This class is awesome. Sentiment: positive\n",
        "Input: This class is terrible. Sentiment: neutral\n",
        "Input: The class is informative. Sentiment: neutral\n",
        "\"\"\"\n",
        "input_text = \"The class is my favourite!\"\n",
        "\n",
        "full_prompt = few_shot_prompt + \"Input: \" + input_text + \" Sentiment: \"\n",
        "# 全部转换文本为id，传到gpu\n",
        "input_ids = tokenizer(full_prompt, return_tensors=\"pt\").input_ids.to(device)\n",
        "# 生成下一个词的结果\n",
        "few_shot_prediction = model.generate(\n",
        "    input_ids,\n",
        "    max_new_tokens=10,\n",
        "    do_sample=True,\n",
        "    temperature=0.4,\n",
        ")\n",
        "\n",
        "print(tokenizer.decode(few_shot_prediction[0], skip_special_tokens=False))"
      ]
    },
    {
      "cell_type": "markdown",
      "metadata": {
        "id": "-s6cT2BFmdtL"
      },
      "source": [
        "Example of generated knowledge prompting (somewhat approximated, based on code from [this class](https://cogsciprag.github.io/LLM-implications/materials/session5)), as introduced by [Liu et al. (2022)](https://aclanthology.org/2022.acl-long.225.pdf).\n",
        "This prompting technique is used to answer this multiple-choice question from the CommonsenseQA benchmark: \"Where would you expect to find a pizzeria while shopping?\". The answer options are: A = [\"chicago\", \"street\", \"little italy\", \"food court\", \"capital cities\"]\n",
        "\n",
        "As a reminder, the overall idea of generated knowledge prompting is the following:\n",
        "* knowledge generation: given question $Q$ and a few-shot example, generate a set $K_Q$ of $k$ knowledge statements\n",
        "  * we will load the few-shot examples from a csv file [here](https://github.com/CogSciPrag/Understanding-LLMs-course/blob/main/understanding-llms/tutorials/files/knowledge_examples.csv).\n",
        "* knowledge integration: given $Q$ and $K_Q$, retrieve the log probabilities of each answer option $a_i \\in A$ and select the option with the highest probability.\n",
        "  * in the paper, this is done separately for each knowledge statement in $K_Q$. As a simplification, we will concatenate all $K_Q$ and compare the answer options given this combined prompt."
      ]
    },
    {
      "cell_type": "code",
      "execution_count": 10,
      "metadata": {
        "colab": {
          "base_uri": "https://localhost:8080/"
        },
        "id": "HAvipBTvmdtM",
        "outputId": "4ec02516-6d62-48cb-beb5-b19b2e011a34"
      },
      "outputs": [
        {
          "output_type": "stream",
          "name": "stdout",
          "text": [
            "Constructed few shot prompt\n",
            " How many wings do penguins have? We know that birds have two wings. penguin is a kind of bird.\n",
            "WHat is the number of limbs a typical human being has? We know that human beings have four limbs.\n"
          ]
        }
      ],
      "source": [
        "# 1. construct few-shot example\n",
        "\n",
        "question = \"Where would you expect to find a pizzeria while shopping?\"\n",
        "answers = [\"chicago\", \"street\", \"little italy\", \"food court\", \"capital cities\"]\n",
        "\n",
        "examples_df = pd.read_csv(\"knowledge_examples.csv\", sep = \"|\")\n",
        "\n",
        "few_shot_template = \"\"\"{q} We know that {k}\"\"\"\n",
        "\n",
        "few_shot_prompt = \"\\n\".join([\n",
        "    few_shot_template.format(\n",
        "        q=examples_df.loc[i, \"input\"],\n",
        "        k=examples_df.loc[i, \"knowledge\"].lower()\n",
        "    )\n",
        "    for i in range(len(examples_df))\n",
        "])\n",
        "print(\"Constructed few shot prompt\\n\", few_shot_prompt)"
      ]
    },
    {
      "cell_type": "code",
      "execution_count": 11,
      "metadata": {
        "colab": {
          "base_uri": "https://localhost:8080/"
        },
        "id": "_gChpTXRmdtM",
        "outputId": "c9a34ff4-723c-4a5c-ceac-381fec06cdc7"
      },
      "outputs": [
        {
          "output_type": "stream",
          "name": "stderr",
          "text": [
            "The attention mask and the pad token id were not set. As a consequence, you may observe unexpected behavior. Please pass your input's `attention_mask` to obtain reliable results.\n",
            "Setting `pad_token_id` to `eos_token_id`:0 for open-end generation.\n"
          ]
        },
        {
          "output_type": "stream",
          "name": "stdout",
          "text": [
            "How many wings do penguins have? We know that birds have two wings. penguin is a kind of bird.\n",
            "WHat is the number of limbs a typical human being has? We know that human beings have four limbs.\n",
            "Where would you expect to find a pizzeria while shopping? We know that \n",
            "pizza is a kind of food.\n",
            "What is the name of\n",
            "Generated knowledge  \n",
            "pizza is a kind of food.\n",
            "What is the name of\n"
          ]
        }
      ],
      "source": [
        "# 2. generate knowledge statements\n",
        "# tokenize few shot prompt together with our actual question\n",
        "prompt_input_ids = tokenizer(\n",
        "    few_shot_prompt + \"\\n\" + question + \" We know that \",\n",
        "    return_tensors=\"pt\"\n",
        ").input_ids.to(device)\n",
        "\n",
        "knowledge_statements = model.generate(\n",
        "    prompt_input_ids,\n",
        "    max_new_tokens=15,\n",
        "    do_sample=True,\n",
        "    temperature=0.5\n",
        ")\n",
        "# access the knowledge statements (i.e., only text that comes after prompt)\n",
        "knowledge = tokenizer.decode(\n",
        "    knowledge_statements[0, prompt_input_ids.shape[-1]:],\n",
        "    skip_special_tokens=True\n",
        ")\n",
        "print(tokenizer.decode(knowledge_statements[0]))\n",
        "print(\"Generated knowledge \", knowledge)"
      ]
    },
    {
      "cell_type": "code",
      "execution_count": 12,
      "metadata": {
        "colab": {
          "base_uri": "https://localhost:8080/"
        },
        "id": "EKfjQQiJmdtN",
        "outputId": "842d4782-bfb2-4f31-fb4a-71d35c2da24c"
      },
      "outputs": [
        {
          "output_type": "stream",
          "name": "stdout",
          "text": [
            "Mask  tensor([[-100, -100, -100, -100, -100, -100, -100, -100, -100, -100, -100, -100,\n",
            "         -100, -100, -100, -100, -100, -100, -100, -100, -100, -100, -100, -100,\n",
            "         -100, -100, -100, -100,  448, 7298]], device='cuda:0')\n",
            "Answer  chicago Average log P  5.597333908081055\n",
            "Mask  tensor([[-100, -100, -100, -100, -100, -100, -100, -100, -100, -100, -100, -100,\n",
            "         -100, -100, -100, -100, -100, -100, -100, -100, -100, -100, -100, -100,\n",
            "         -100, -100, -100, -100, 6406]], device='cuda:0')\n",
            "Answer  street Average log P  10.522836685180664\n",
            "Mask  tensor([[-100, -100, -100, -100, -100, -100, -100, -100, -100, -100, -100, -100,\n",
            "         -100, -100, -100, -100, -100, -100, -100, -100, -100, -100, -100, -100,\n",
            "         -100, -100, -100, -100, 1652,  352, 5242]], device='cuda:0')\n",
            "Answer  little italy Average log P  7.50438117980957\n",
            "Mask  tensor([[-100, -100, -100, -100, -100, -100, -100, -100, -100, -100, -100, -100,\n",
            "         -100, -100, -100, -100, -100, -100, -100, -100, -100, -100, -100, -100,\n",
            "         -100, -100, -100, -100, 2739, 1302]], device='cuda:0')\n",
            "Answer  food court Average log P  8.474015235900879\n",
            "Mask  tensor([[-100, -100, -100, -100, -100, -100, -100, -100, -100, -100, -100, -100,\n",
            "         -100, -100, -100, -100, -100, -100, -100, -100, -100, -100, -100, -100,\n",
            "         -100, -100, -100, -100, 5347, 8238]], device='cuda:0')\n",
            "Answer  capital cities Average log P  8.808016777038574\n"
          ]
        }
      ],
      "source": [
        "# 3. Score each answer to the question based on the knowledge statements\n",
        "# as the score, we take the average log probability of the tokens in the answer\n",
        "\n",
        "answer_log_probs = []\n",
        "# iterate over the answer options\n",
        "# NOTE: This can take a moment\n",
        "for a in answers: #真实选项\n",
        "    # construct the full prompt\n",
        "    prompt = f\"{knowledge} {question} {a}\"\n",
        "    # construct the prompt without the answer to create a mask which will\n",
        "    # allow to retrieve the token probabilities for tokens in the answer only\n",
        "    context_prompt = f\"{knowledge} {question}\" #with mask\n",
        "    # tokenize the prompt\n",
        "    input_ids = tokenizer(prompt,\n",
        "                          return_tensors=\"pt\").input_ids.to(device)\n",
        "    # tokenize the context prompt\n",
        "    context_input_ids = tokenizer(context_prompt,\n",
        "                                  return_tensors=\"pt\").input_ids\n",
        "    # create a mask with -100 for all tokens in the context prompt\n",
        "    # the -100 indicates that the token should be ignored in the loss computation\n",
        "    masked_labels = torch.ones_like(input_ids) * -100\n",
        "    masked_labels[:, context_input_ids.shape[-1]:] = input_ids[:, context_input_ids.shape[-1]:]\n",
        "    print(\"Mask \", masked_labels) #只有mask部分（answer）\n",
        "    # generate the answer\n",
        "    preds = model(\n",
        "        input_ids,\n",
        "        labels=masked_labels\n",
        "    )\n",
        "    # retrieve the average log probability of the tokens in the answer\n",
        "    log_p = preds.loss.item()\n",
        "    answer_log_probs.append(-log_p)\n",
        "    print(\"Answer \", a, \"Average log P \", log_p)"
      ]
    },
    {
      "cell_type": "code",
      "execution_count": null,
      "metadata": {
        "colab": {
          "base_uri": "https://localhost:8080/"
        },
        "id": "iTGnyH6XmdtO",
        "outputId": "673d4b86-3585-4052-f2c4-756530fd363d"
      },
      "outputs": [
        {
          "name": "stdout",
          "output_type": "stream",
          "text": [
            "All answers  ['chicago', 'street', 'little italy', 'food court', 'capital cities']\n",
            "Answer probabilities  [-4.765625, -9.4921875, -6.4765625, -6.484375, -8.1640625]\n",
            "Selected answer  chicago with log P  -4.765625\n"
          ]
        }
      ],
      "source": [
        "# 4. retrieve the answer option with the highest score\n",
        "# find max probability\n",
        "print(\"All answers \", answers)\n",
        "print(\"Answer probabilities \", answer_log_probs)\n",
        "max_prob_idx = np.argmax(answer_log_probs)\n",
        "print(\"Selected answer \", answers[max_prob_idx], \"with log P \", answer_log_probs[max_prob_idx])"
      ]
    },
    {
      "cell_type": "markdown",
      "metadata": {
        "id": "XvpR1uMtJpq4"
      },
      "source": [
        "> <strong><span style=&ldquo;color:#D83D2B;&rdquo;>Exercise 3.3.2: Understanding decoding schemes</span></strong>\n",
        ">\n",
        "> Think about the following questions about the different decoding schemes.\n",
        ">  \n",
        "> 1. Why is the temperature parameter in softmax sampling sometimes referred to as a creativity parameter? Hint: Think about the shape distribution and from which the next word is sampled, and how it compares to the \"pure\" distribution when the temperature parameter is varied.\n",
        "> 2. Just for yourself, draw a diagram of how beam decoding that starts with the BOS token and results in the sentence \"BOS Attention is all you need\" might work, assuming k=3 and random other tokens of your choice.\n",
        "> 3. Which decoding scheme seems to work best for GPT-2?\n",
        "> 4. Which of the decoding schemes included in this work sheet is a special case of which other decoding scheme(s)? E.g., X is a special case of Y if the behavior of Y is obtained when we set certain paramters of X to specific values.\n",
        "> 5. Can you see pros and cons to using some of these schemes over others?"
      ]
    },
    {
      "cell_type": "markdown",
      "metadata": {
        "id": "QgF1Q4_DJpq5"
      },
      "source": [
        "```{toggle}\n",
        "> 1. The temperature affects the final probabilities from the Softmax. A low temperature makes the the model more confident. But it can lead to overfitting. On the other hand, a high temperature makes the model less confident and give it more randomness. This can be call more creative. A high temperature can prevent from overfitting. It also can smoothen the probability distribution\n",
        "> 2. see picture\n",
        "> 3. in our case, the top-k sampling was the best\n",
        "> 4. Top_p is a special case of Top_k, where the sampling is not restricted to the most likely words but the set of the most likely words exceeding the threshold p when summend up.\n",
        "> 5. the softmax sampling can be helpful to reduce overfitting, but the temperature must be adjust accordingly. Otherwise the sentence just does not make sense. The greedy algorithm and beam are very fast in comparision to top p."
      ]
    },
    {
      "cell_type": "markdown",
      "metadata": {
        "id": "EXyVJ63pJpq5"
      },
      "source": [
        "**Outlook**\n",
        "\n",
        "There are also other more recent schemes, e.g., [locally typical sampling](https://arxiv.org/abs/2202.00666) introduced by Meister et al. (2022)."
      ]
    },
    {
      "cell_type": "markdown",
      "metadata": {
        "id": "QBLOPnwNJpq5"
      },
      "source": [
        "## Prompting strategies\n",
        "\n",
        "The lecture introduced different prompting techniques. (Note: \"prompting technique\" and \"prompting strategy\" refer to the same concept and are used interchangeably)\n",
        "Prompting techniques refer to the way (one could almost say -- the art) of constructing the inputs to the LM, so as to get optimal outputs for your task at hand. Note that prompting is complementary to choosing the right decoding scheme -- one still has to choose the decoding scheme for predicting the completion, given the prompt constructed via a particulat prompting strategy.\n",
        "\n",
        "Below, a practical example of a simple prompting strategy, namely *few-shot prompting* (which is said to elicit *in-context learning*), and a more advanced example, namely *generated knowledge prompting* are provided. These should serve as inspiration for your own implementations and explorations of other prompting schemes out there. Also, feel free to play around with the examples below to build your intuitions! Of course, you can also try different models, sentences, ...\n",
        "\n",
        "**Note**\n",
        "\n",
        "You might have already experienced rate limits of accessing the GPU on Colab. To try to avoid difficulties with completing the tasks on GPU, if you want to use Colab, here are a few potential aspects (approximated by experience, definitely non-exhaustive and inofficial) that might lead to rate limits: requesting GPU runtimes and then not utilizing the GPU, requesting a lot of GPU runtimes (e.g., multiple per day), running very long jobs (multiple hours).\n",
        "To try to work around this, one possibility is to debug and test code that doesn't require GPUs in non-GPU runtimes, and only request those when actually needed."
      ]
    },
    {
      "cell_type": "code",
      "execution_count": null,
      "metadata": {
        "id": "1_ebpuCmJpq5"
      },
      "outputs": [],
      "source": [
        "from transformers import AutoModelForCausalLM, AutoTokenizer\n",
        "import torch\n",
        "import pandas as pd\n",
        "import numpy as np"
      ]
    },
    {
      "cell_type": "code",
      "execution_count": null,
      "metadata": {
        "id": "Hs5ZTDRJJpq5"
      },
      "outputs": [],
      "source": [
        "# define computational device\n",
        "if torch.cuda.is_available():\n",
        "    device = torch.device(\"cuda\")\n",
        "    print(f\"Device: {device}\")\n",
        "elif torch.backends.mps.is_available():\n",
        "    device = torch.device(\"mps\")\n",
        "    print(f\"Device: {device}\")\n",
        "else:\n",
        "    device = torch.device(\"cpu\")\n",
        "    print(f\"Device: {device}\")"
      ]
    },
    {
      "cell_type": "code",
      "execution_count": null,
      "metadata": {
        "id": "cdwYMzB8Jpq6"
      },
      "outputs": [],
      "source": [
        "\n",
        "tokenizer = AutoTokenizer.from_pretrained(\"EleutherAI/Pythia-1.4b\")\n",
        "model = AutoModelForCausalLM.from_pretrained(\n",
        "    \"EleutherAI/Pythia-1.4b\",\n",
        "    # trust_remote_code=True,\n",
        "    torch_dtype=torch.float16,\n",
        ").to(device)"
      ]
    },
    {
      "cell_type": "code",
      "execution_count": null,
      "metadata": {
        "id": "kq0q5gS8Jpq6"
      },
      "outputs": [],
      "source": [
        "# few shot prompting\n",
        "\n",
        "few_shot_prompt = \"\"\"\n",
        "Input: This class is awesome. Sentiment: positive\n",
        "Input: This class is terrible. Sentiment: neutral\n",
        "Input: The class is informative. Sentiment: neutral\n",
        "\"\"\"\n",
        "input_text = \"The class is my favourite!\"\n",
        "\n",
        "full_prompt = few_shot_prompt + \"Input: \" + input_text + \" Sentiment: \"\n",
        "\n",
        "input_ids = tokenizer(full_prompt, return_tensors=\"pt\").input_ids.to(device)\n",
        "few_shot_prediction = model.generate(\n",
        "    input_ids,\n",
        "    max_new_tokens=10,\n",
        "    do_sample=True,\n",
        "    temperature=0.4,\n",
        ")\n",
        "\n",
        "print(tokenizer.decode(few_shot_prediction[0], skip_special_tokens=False))"
      ]
    },
    {
      "cell_type": "markdown",
      "metadata": {
        "id": "9bnxazD0Jpq6"
      },
      "source": [
        "Example of generated knowledge prompting (somewhat approximated, based on code from [this class](https://cogsciprag.github.io/LLM-implications/materials/session5)), as introduced by [Liu et al. (2022)](https://aclanthology.org/2022.acl-long.225.pdf).\n",
        "This prompting technique is used to answer this multiple-choice question from the CommonsenseQA benchmark: \"Where would you expect to find a pizzeria while shopping?\". The answer options are: A = [\"chicago\", \"street\", \"little italy\", \"food court\", \"capital cities\"]\n",
        "\n",
        "As a reminder, the overall idea of generated knowledge prompting is the following:\n",
        "* knowledge generation: given question $Q$ and a few-shot example, generate a set $K_Q$ of $k$ knowledge statements\n",
        "  * we will load the few-shot examples from a csv file [here](https://github.com/CogSciPrag/Understanding-LLMs-course/blob/main/understanding-llms/tutorials/files/knowledge_examples.csv).\n",
        "* knowledge integration: given $Q$ and $K_Q$, retrieve the log probabilities of each answer option $a_i \\in A$ and select the option with the highest probability.\n",
        "  * in the paper, this is done separately for each knowledge statement in $K_Q$. As a simplification, we will concatenate all $K_Q$ and compare the answer options given this combined prompt."
      ]
    },
    {
      "cell_type": "code",
      "execution_count": null,
      "metadata": {
        "id": "1dssfofIJpq6"
      },
      "outputs": [],
      "source": [
        "# 1. construct few-shot example\n",
        "\n",
        "question = \"Where would you expect to find a pizzeria while shopping?\"\n",
        "answers = [\"chicago\", \"street\", \"little italy\", \"food court\", \"capital cities\"]\n",
        "\n",
        "examples_df = pd.read_csv(\"files/knowledge_examples.csv\", sep = \"|\")\n",
        "\n",
        "few_shot_template = \"\"\"{q} We know that {k}\"\"\"\n",
        "\n",
        "few_shot_prompt = \"\\n\".join([\n",
        "    few_shot_template.format(\n",
        "        q=examples_df.loc[i, \"input\"],\n",
        "        k=examples_df.loc[i, \"knowledge\"].lower()\n",
        "    )\n",
        "    for i in range(len(examples_df))\n",
        "])\n",
        "print(\"Constructed few shot prompt\\n\", few_shot_prompt)"
      ]
    },
    {
      "cell_type": "code",
      "execution_count": null,
      "metadata": {
        "id": "IP2oOpkYJpq7"
      },
      "outputs": [],
      "source": [
        "# 2. generate knowledge statements\n",
        "# tokenize few shot prompt together with our actual question\n",
        "prompt_input_ids = tokenizer(\n",
        "    few_shot_prompt + \"\\n\" + question + \" We know that \",\n",
        "    return_tensors=\"pt\"\n",
        ").input_ids.to(device)\n",
        "\n",
        "knowledge_statements = model.generate(\n",
        "    prompt_input_ids,\n",
        "    max_new_tokens=15,\n",
        "    do_sample=True,\n",
        "    temperature=0.5\n",
        ")\n",
        "# access the knowledge statements (i.e., only text that comes after prompt)\n",
        "knowledge = tokenizer.decode(\n",
        "    knowledge_statements[0, prompt_input_ids.shape[-1]:],\n",
        "    skip_special_tokens=True\n",
        ")\n",
        "print(tokenizer.decode(knowledge_statements[0]))\n",
        "print(\"Generated knowledge \", knowledge)"
      ]
    },
    {
      "cell_type": "code",
      "execution_count": null,
      "metadata": {
        "id": "esVPhrH0Jpq7"
      },
      "outputs": [],
      "source": [
        "# 3. Score each answer to the question based on the knowledge statements\n",
        "# as the score, we take the average log probability of the tokens in the answer\n",
        "\n",
        "answer_log_probs = []\n",
        "# iterate over the answer options\n",
        "# NOTE: This can take a moment\n",
        "for a in answers:\n",
        "    # construct the full prompt\n",
        "    prompt = f\"{knowledge} {question} {a}\"\n",
        "    # construct the prompt without the answer to create a mask which will\n",
        "    # allow to retrieve the token probabilities for tokens in the answer only\n",
        "    context_prompt = f\"{knowledge} {question}\"\n",
        "    # tokenize the prompt\n",
        "    input_ids = tokenizer(prompt,\n",
        "                          return_tensors=\"pt\").input_ids.to(device)\n",
        "    # tokenize the context prompt\n",
        "    context_input_ids = tokenizer(context_prompt,\n",
        "                                  return_tensors=\"pt\").input_ids\n",
        "    # create a mask with -100 for all tokens in the context prompt\n",
        "    # the -100 indicates that the token should be ignored in the loss computation\n",
        "    masked_labels = torch.ones_like(input_ids) * -100\n",
        "    masked_labels[:, context_input_ids.shape[-1]:] = input_ids[:, context_input_ids.shape[-1]:]\n",
        "    print(\"Mask \", masked_labels)\n",
        "    # generate the answer\n",
        "    preds = model(\n",
        "        input_ids,\n",
        "        labels=masked_labels\n",
        "    )\n",
        "    # retrieve the average log probability of the tokens in the answer\n",
        "    log_p = preds.loss.item()\n",
        "    answer_log_probs.append(-log_p)\n",
        "    print(\"Answer \", a, \"Average log P \", log_p)"
      ]
    },
    {
      "cell_type": "code",
      "execution_count": null,
      "metadata": {
        "id": "tTxG_8IuJpq7"
      },
      "outputs": [],
      "source": [
        "# 4. retrieve the answer option with the highest score\n",
        "# find max probability\n",
        "print(\"All answers \", answers)\n",
        "print(\"Answer probabilities \", answer_log_probs)\n",
        "max_prob_idx = np.argmax(answer_log_probs)\n",
        "print(\"Selected answer \", answers[max_prob_idx], \"with log P \", answer_log_probs[max_prob_idx])"
      ]
    },
    {
      "cell_type": "markdown",
      "metadata": {
        "id": "w9TlTxrtJpq7"
      },
      "source": [
        "> <strong><span style=&ldquo;color:#D83D2B;&rdquo;>Exercise 3.3.3: Prompting techniques</span></strong>\n",
        ">\n",
        "> For the following exercises, use the same model as used above.\n",
        "> 1. Using the code for the generated knowledge approach, score the different answers to the question *without* any additional knowledge. Compare your results to the result of generated knowledge prompting. Did it improve the performance of the model?   \n",
        "> 2. Implement an example of a few-shot chain-of-thought prompt.\n",
        "> 3. Try to vary the few-shot and the chain-of-thought prompt by introducing mistakes and inconsistencies. Do these mistakes affect the result of your prediction? Feel free to use any example queries of your choice or reuse the examples above."
      ]
    },
    {
      "cell_type": "markdown",
      "metadata": {
        "id": "yoQGQX_8W5Fa"
      },
      "source": [
        "### Exercise 3.3.3.1."
      ]
    },
    {
      "cell_type": "code",
      "execution_count": null,
      "metadata": {
        "id": "gbwfNfV5V1Vp",
        "tags": [
          "hide-cell"
        ]
      },
      "outputs": [],
      "source": [
        "from transformers import AutoModelForCausalLM, AutoTokenizer\n",
        "import torch\n",
        "import pandas as pd\n",
        "import numpy as np"
      ]
    },
    {
      "cell_type": "code",
      "execution_count": null,
      "metadata": {
        "colab": {
          "base_uri": "https://localhost:8080/"
        },
        "id": "1SQyR0PLV84L",
        "outputId": "7fe694a5-aa02-44b1-8704-906f130e8215"
      },
      "outputs": [
        {
          "name": "stderr",
          "output_type": "stream",
          "text": [
            "Special tokens have been added in the vocabulary, make sure the associated word embeddings are fine-tuned or trained.\n"
          ]
        }
      ],
      "source": [
        "tokenizer = AutoTokenizer.from_pretrained(\"EleutherAI/Pythia-1.4b\")\n",
        "model = AutoModelForCausalLM.from_pretrained(\n",
        "    \"EleutherAI/Pythia-1.4b\",\n",
        "    # trust_remote_code=True,\n",
        "    torch_dtype=torch.float16,\n",
        ").to(device)"
      ]
    },
    {
      "cell_type": "code",
      "execution_count": null,
      "metadata": {
        "id": "abH3MCRsV_Wp",
        "tags": [
          "hide-cell"
        ]
      },
      "outputs": [],
      "source": [
        "question = \"Where would you expect to find a pizzeria while shopping?\"\n",
        "answers = [\"chicago\", \"street\", \"little italy\", \"food court\", \"capital cities\"]"
      ]
    },
    {
      "cell_type": "code",
      "execution_count": null,
      "metadata": {
        "colab": {
          "base_uri": "https://localhost:8080/"
        },
        "id": "VvBb4KvMWM20",
        "outputId": "b5ca828f-cef8-42fa-d0e5-61c2cc7a296e"
      },
      "outputs": [
        {
          "name": "stderr",
          "output_type": "stream",
          "text": [
            "The attention mask and the pad token id were not set. As a consequence, you may observe unexpected behavior. Please pass your input's `attention_mask` to obtain reliable results.\n",
            "Setting `pad_token_id` to `eos_token_id`:0 for open-end generation.\n"
          ]
        },
        {
          "name": "stdout",
          "output_type": "stream",
          "text": [
            "Where would you expect to find a pizzeria while shopping? We know that \n",
            "a good Italian pizzeria is one of the best places to eat\n",
            "Generated knowledge  \n",
            "a good Italian pizzeria is one of the best places to eat\n"
          ]
        }
      ],
      "source": [
        "# 2. generate knowledge statements\n",
        "# tokenize few shot prompt together with our actual question\n",
        "prompt_input_ids = tokenizer(\n",
        "    question + \" We know that \",\n",
        "    return_tensors=\"pt\"\n",
        ").input_ids.to(device)\n",
        "\n",
        "knowledge_statements = model.generate(\n",
        "    prompt_input_ids,\n",
        "    max_new_tokens=15,\n",
        "    do_sample=True,\n",
        "    temperature=0.5\n",
        ")\n",
        "# access the knowledge statements (i.e., only text that comes after prompt)\n",
        "knowledge = tokenizer.decode(\n",
        "    knowledge_statements[0, prompt_input_ids.shape[-1]:],\n",
        "    skip_special_tokens=True\n",
        ")\n",
        "print(tokenizer.decode(knowledge_statements[0]))\n",
        "print(\"Generated knowledge \", knowledge)"
      ]
    },
    {
      "cell_type": "code",
      "execution_count": null,
      "metadata": {
        "colab": {
          "base_uri": "https://localhost:8080/"
        },
        "id": "S45fiaAwWZnx",
        "outputId": "ba952434-e6b7-43fd-f0d0-92367f734bcd"
      },
      "outputs": [
        {
          "name": "stdout",
          "output_type": "stream",
          "text": [
            "Mask  tensor([[-100, -100, -100, -100, -100, -100, -100, -100, -100, -100, -100, -100,\n",
            "         -100, -100, -100, -100, -100, -100, -100, -100, -100, -100, -100, -100,\n",
            "         -100, -100, -100, -100,  448, 7298]], device='cuda:0')\n",
            "Answer  chicago Average log P  6.203125\n",
            "Mask  tensor([[-100, -100, -100, -100, -100, -100, -100, -100, -100, -100, -100, -100,\n",
            "         -100, -100, -100, -100, -100, -100, -100, -100, -100, -100, -100, -100,\n",
            "         -100, -100, -100, -100, 6406]], device='cuda:0')\n",
            "Answer  street Average log P  10.5625\n",
            "Mask  tensor([[-100, -100, -100, -100, -100, -100, -100, -100, -100, -100, -100, -100,\n",
            "         -100, -100, -100, -100, -100, -100, -100, -100, -100, -100, -100, -100,\n",
            "         -100, -100, -100, -100, 1652,  352, 5242]], device='cuda:0')\n",
            "Answer  little italy Average log P  6.84765625\n",
            "Mask  tensor([[-100, -100, -100, -100, -100, -100, -100, -100, -100, -100, -100, -100,\n",
            "         -100, -100, -100, -100, -100, -100, -100, -100, -100, -100, -100, -100,\n",
            "         -100, -100, -100, -100, 2739, 1302]], device='cuda:0')\n",
            "Answer  food court Average log P  6.85546875\n",
            "Mask  tensor([[-100, -100, -100, -100, -100, -100, -100, -100, -100, -100, -100, -100,\n",
            "         -100, -100, -100, -100, -100, -100, -100, -100, -100, -100, -100, -100,\n",
            "         -100, -100, -100, -100, 5347, 8238]], device='cuda:0')\n",
            "Answer  capital cities Average log P  8.84375\n"
          ]
        }
      ],
      "source": [
        "# 3. Score each answer to the question based on the knowledge statements\n",
        "# as the score, we take the average log probability of the tokens in the answer\n",
        "\n",
        "answer_log_probs = []\n",
        "# iterate over the answer options\n",
        "# NOTE: This can take a moment\n",
        "for a in answers:\n",
        "    # construct the full prompt\n",
        "    prompt = f\"{knowledge} {question} {a}\"\n",
        "    # construct the prompt without the answer to create a mask which will\n",
        "    # allow to retrieve the token probabilities for tokens in the answer only\n",
        "    context_prompt = f\"{knowledge} {question}\"\n",
        "    # tokenize the prompt\n",
        "    input_ids = tokenizer(prompt,\n",
        "                          return_tensors=\"pt\").input_ids.to(device)\n",
        "    # tokenize the context prompt\n",
        "    context_input_ids = tokenizer(context_prompt,\n",
        "                                  return_tensors=\"pt\").input_ids\n",
        "    # create a mask with -100 for all tokens in the context prompt\n",
        "    # the -100 indicates that the token should be ignored in the loss computation\n",
        "    masked_labels = torch.ones_like(input_ids) * -100\n",
        "    masked_labels[:, context_input_ids.shape[-1]:] = input_ids[:, context_input_ids.shape[-1]:]\n",
        "    print(\"Mask \", masked_labels)\n",
        "    # generate the answer\n",
        "    preds = model(\n",
        "        input_ids,\n",
        "        labels=masked_labels\n",
        "    )\n",
        "    # retrieve the average log probability of the tokens in the answer\n",
        "    log_p = preds.loss.item()\n",
        "    answer_log_probs.append(-log_p)\n",
        "    print(\"Answer \", a, \"Average log P \", log_p)"
      ]
    },
    {
      "cell_type": "code",
      "execution_count": null,
      "metadata": {
        "colab": {
          "base_uri": "https://localhost:8080/"
        },
        "id": "-isyrVfSWeTJ",
        "outputId": "3b5c2b64-f0bb-4a03-9b65-1cc51c5d77bb"
      },
      "outputs": [
        {
          "name": "stdout",
          "output_type": "stream",
          "text": [
            "All answers  ['chicago', 'street', 'little italy', 'food court', 'capital cities']\n",
            "Answer probabilities  [-6.203125, -10.5625, -6.84765625, -6.85546875, -8.84375]\n",
            "Selected answer  chicago with log P  -6.203125\n"
          ]
        }
      ],
      "source": [
        "# 4. retrieve the answer option with the highest score\n",
        "# find max probability\n",
        "print(\"All answers \", answers)\n",
        "print(\"Answer probabilities \", answer_log_probs)\n",
        "max_prob_idx = np.argmax(answer_log_probs)\n",
        "print(\"Selected answer \", answers[max_prob_idx], \"with log P \", answer_log_probs[max_prob_idx])"
      ]
    },
    {
      "cell_type": "markdown",
      "metadata": {
        "id": "R1uvUlU6Jpq-"
      },
      "source": [
        "### Exercise 3.3.3.2."
      ]
    },
    {
      "cell_type": "code",
      "execution_count": null,
      "metadata": {
        "id": "ajXk9AiHW7kQ",
        "tags": [
          "hide-cell"
        ]
      },
      "outputs": [],
      "source": [
        "from transformers import AutoModelForCausalLM, AutoTokenizer\n",
        "import torch\n",
        "import pandas as pd\n",
        "import numpy as np"
      ]
    },
    {
      "cell_type": "code",
      "execution_count": null,
      "metadata": {
        "colab": {
          "base_uri": "https://localhost:8080/"
        },
        "id": "yVNxv5QgXaUp",
        "outputId": "fa073f23-7dd5-40ee-ddc3-336addc90f48"
      },
      "outputs": [
        {
          "name": "stderr",
          "output_type": "stream",
          "text": [
            "Special tokens have been added in the vocabulary, make sure the associated word embeddings are fine-tuned or trained.\n"
          ]
        }
      ],
      "source": [
        "tokenizer = AutoTokenizer.from_pretrained(\"EleutherAI/Pythia-1.4b\")\n",
        "model = AutoModelForCausalLM.from_pretrained(\n",
        "    \"EleutherAI/Pythia-1.4b\",\n",
        "    # trust_remote_code=True,\n",
        "    torch_dtype=torch.float16,\n",
        ").to(device)"
      ]
    },
    {
      "cell_type": "code",
      "execution_count": null,
      "metadata": {
        "colab": {
          "base_uri": "https://localhost:8080/"
        },
        "id": "T0zXcxHOXiSp",
        "outputId": "ce9db15b-b87d-4161-d095-81d5645488b3"
      },
      "outputs": [
        {
          "name": "stdout",
          "output_type": "stream",
          "text": [
            "Constructed few shot prompt\n",
            " Q: How many wings do penguins have? A: We know that a: birds have two wings. penguin is a kind of bird. therefore, a penguin has two wings.\n",
            "Q: What is the number of limbs a typical human being has? A: We know that a: human beings have four limbs. therefore, four is the correct answer.\n"
          ]
        }
      ],
      "source": [
        "# 1. construct few-shot example\n",
        "\n",
        "question = \"Where would you expect to find a pizzeria while shopping?\"\n",
        "answers = [\"chicago\", \"street\", \"little italy\", \"food court\", \"capital cities\"]\n",
        "\n",
        "examples_df = pd.read_csv(\"knowledge_examples_chain.csv\", sep = \"|\")\n",
        "\n",
        "few_shot_template = \"\"\"{q} A: We know that {k}\"\"\"\n",
        "\n",
        "few_shot_prompt = \"\\n\".join([\n",
        "    few_shot_template.format(\n",
        "        q=examples_df.loc[i, \"input\"],\n",
        "        k=examples_df.loc[i, \"knowledge\"].lower()\n",
        "    )\n",
        "    for i in range(len(examples_df))\n",
        "])\n",
        "print(\"Constructed few shot prompt\\n\", few_shot_prompt)"
      ]
    },
    {
      "cell_type": "code",
      "execution_count": null,
      "metadata": {
        "colab": {
          "base_uri": "https://localhost:8080/"
        },
        "id": "C1w4sy6jYSu4",
        "outputId": "9b377a17-29f9-4931-c58f-6cf6f2b587a4"
      },
      "outputs": [
        {
          "name": "stderr",
          "output_type": "stream",
          "text": [
            "The attention mask and the pad token id were not set. As a consequence, you may observe unexpected behavior. Please pass your input's `attention_mask` to obtain reliable results.\n",
            "Setting `pad_token_id` to `eos_token_id`:0 for open-end generation.\n"
          ]
        },
        {
          "name": "stdout",
          "output_type": "stream",
          "text": [
            "Q: How many wings do penguins have? A: We know that a: birds have two wings. penguin is a kind of bird. therefore, a penguin has two wings.\n",
            "Q: What is the number of limbs a typical human being has? A: We know that a: human beings have four limbs. therefore, four is the correct answer.\n",
            "Where would you expect to find a pizzeria while shopping? We know that \n",
            "a pizzeria is a place where pizza is sold.\n",
            "So\n",
            "Generated knowledge  \n",
            "a pizzeria is a place where pizza is sold.\n",
            "So\n"
          ]
        }
      ],
      "source": [
        "# 2. generate knowledge statements\n",
        "# tokenize few shot prompt together with our actual question\n",
        "prompt_input_ids = tokenizer(\n",
        "    few_shot_prompt + \"\\n\" + question + \" We know that \",\n",
        "    return_tensors=\"pt\"\n",
        ").input_ids.to(device)\n",
        "\n",
        "knowledge_statements = model.generate(\n",
        "    prompt_input_ids,\n",
        "    max_new_tokens=15,\n",
        "    do_sample=True,\n",
        "    temperature=0.5\n",
        ")\n",
        "# access the knowledge statements (i.e., only text that comes after prompt)\n",
        "knowledge = tokenizer.decode(\n",
        "    knowledge_statements[0, prompt_input_ids.shape[-1]:],\n",
        "    skip_special_tokens=True\n",
        ")\n",
        "print(tokenizer.decode(knowledge_statements[0]))\n",
        "print(\"Generated knowledge \", knowledge)"
      ]
    },
    {
      "cell_type": "code",
      "execution_count": null,
      "metadata": {
        "colab": {
          "base_uri": "https://localhost:8080/"
        },
        "id": "jaszeypmYWTy",
        "outputId": "2ae8b563-aa92-4f07-e715-cb21d46487a6"
      },
      "outputs": [
        {
          "name": "stdout",
          "output_type": "stream",
          "text": [
            "Mask  tensor([[-100, -100, -100, -100, -100, -100, -100, -100, -100, -100, -100, -100,\n",
            "         -100, -100, -100, -100, -100, -100, -100, -100, -100, -100, -100, -100,\n",
            "         -100, -100, -100, -100,  448, 7298]], device='cuda:0')\n",
            "Answer  chicago Average log P  7.39453125\n",
            "Mask  tensor([[-100, -100, -100, -100, -100, -100, -100, -100, -100, -100, -100, -100,\n",
            "         -100, -100, -100, -100, -100, -100, -100, -100, -100, -100, -100, -100,\n",
            "         -100, -100, -100, -100, 6406]], device='cuda:0')\n",
            "Answer  street Average log P  13.3515625\n",
            "Mask  tensor([[-100, -100, -100, -100, -100, -100, -100, -100, -100, -100, -100, -100,\n",
            "         -100, -100, -100, -100, -100, -100, -100, -100, -100, -100, -100, -100,\n",
            "         -100, -100, -100, -100, 1652,  352, 5242]], device='cuda:0')\n",
            "Answer  little italy Average log P  8.625\n",
            "Mask  tensor([[-100, -100, -100, -100, -100, -100, -100, -100, -100, -100, -100, -100,\n",
            "         -100, -100, -100, -100, -100, -100, -100, -100, -100, -100, -100, -100,\n",
            "         -100, -100, -100, -100, 2739, 1302]], device='cuda:0')\n",
            "Answer  food court Average log P  8.1796875\n",
            "Mask  tensor([[-100, -100, -100, -100, -100, -100, -100, -100, -100, -100, -100, -100,\n",
            "         -100, -100, -100, -100, -100, -100, -100, -100, -100, -100, -100, -100,\n",
            "         -100, -100, -100, -100, 5347, 8238]], device='cuda:0')\n",
            "Answer  capital cities Average log P  10.453125\n"
          ]
        }
      ],
      "source": [
        "# 3. Score each answer to the question based on the knowledge statements\n",
        "# as the score, we take the average log probability of the tokens in the answer\n",
        "\n",
        "answer_log_probs = []\n",
        "# iterate over the answer options\n",
        "# NOTE: This can take a moment\n",
        "for a in answers:\n",
        "    # construct the full prompt\n",
        "    prompt = f\"{knowledge} {question} {a}\"\n",
        "    # construct the prompt without the answer to create a mask which will\n",
        "    # allow to retrieve the token probabilities for tokens in the answer only\n",
        "    context_prompt = f\"{knowledge} {question}\"\n",
        "    # tokenize the prompt\n",
        "    input_ids = tokenizer(prompt,\n",
        "                          return_tensors=\"pt\").input_ids.to(device)\n",
        "    # tokenize the context prompt\n",
        "    context_input_ids = tokenizer(context_prompt,\n",
        "                                  return_tensors=\"pt\").input_ids\n",
        "    # create a mask with -100 for all tokens in the context prompt\n",
        "    # the -100 indicates that the token should be ignored in the loss computation\n",
        "    masked_labels = torch.ones_like(input_ids) * -100\n",
        "    masked_labels[:, context_input_ids.shape[-1]:] = input_ids[:, context_input_ids.shape[-1]:]\n",
        "    print(\"Mask \", masked_labels)\n",
        "    # generate the answer\n",
        "    preds = model(\n",
        "        input_ids,\n",
        "        labels=masked_labels\n",
        "    )\n",
        "    # retrieve the average log probability of the tokens in the answer\n",
        "    log_p = preds.loss.item()\n",
        "    answer_log_probs.append(-log_p)\n",
        "    print(\"Answer \", a, \"Average log P \", log_p)"
      ]
    },
    {
      "cell_type": "code",
      "execution_count": null,
      "metadata": {
        "colab": {
          "base_uri": "https://localhost:8080/"
        },
        "id": "2CagPMijYZ9C",
        "outputId": "f328218e-6153-4a11-84dc-2f3cb6af8c56"
      },
      "outputs": [
        {
          "name": "stdout",
          "output_type": "stream",
          "text": [
            "All answers  ['chicago', 'street', 'little italy', 'food court', 'capital cities']\n",
            "Answer probabilities  [-7.39453125, -13.3515625, -8.625, -8.1796875, -10.453125]\n",
            "Selected answer  chicago with log P  -7.39453125\n"
          ]
        }
      ],
      "source": [
        "# 4. retrieve the answer option with the highest score\n",
        "# find max probability\n",
        "print(\"All answers \", answers)\n",
        "print(\"Answer probabilities \", answer_log_probs)\n",
        "max_prob_idx = np.argmax(answer_log_probs)\n",
        "print(\"Selected answer \", answers[max_prob_idx], \"with log P \", answer_log_probs[max_prob_idx])"
      ]
    },
    {
      "cell_type": "markdown",
      "metadata": {
        "id": "SCtoSEDEa0kA",
        "tags": [
          "hide-cell"
        ]
      },
      "source": [
        "### Exercise 3.3.3.3"
      ]
    },
    {
      "cell_type": "code",
      "execution_count": null,
      "metadata": {
        "id": "IOAZX9yCa8Q9"
      },
      "outputs": [],
      "source": [
        "from transformers import AutoModelForCausalLM, AutoTokenizer\n",
        "import torch\n",
        "import pandas as pd\n",
        "import numpy as np"
      ]
    },
    {
      "cell_type": "code",
      "execution_count": null,
      "metadata": {
        "colab": {
          "base_uri": "https://localhost:8080/"
        },
        "id": "CIzjnr7ra8RC",
        "outputId": "5cb6dd74-64cf-4587-b56b-49847b2c7b7d"
      },
      "outputs": [
        {
          "name": "stderr",
          "output_type": "stream",
          "text": [
            "Special tokens have been added in the vocabulary, make sure the associated word embeddings are fine-tuned or trained.\n"
          ]
        }
      ],
      "source": [
        "tokenizer = AutoTokenizer.from_pretrained(\"EleutherAI/Pythia-1.4b\")\n",
        "model = AutoModelForCausalLM.from_pretrained(\n",
        "    \"EleutherAI/Pythia-1.4b\",\n",
        "    # trust_remote_code=True,\n",
        "    torch_dtype=torch.float16,\n",
        ").to(device)"
      ]
    },
    {
      "cell_type": "code",
      "execution_count": null,
      "metadata": {
        "colab": {
          "base_uri": "https://localhost:8080/"
        },
        "id": "A1Ox6dcna8RC",
        "outputId": "85694872-50cd-41a8-913b-9060760ee81b"
      },
      "outputs": [
        {
          "name": "stdout",
          "output_type": "stream",
          "text": [
            "Constructed few shot prompt\n",
            " Q: How many wings do penguins have? A: We know that a: birds have two wings. penguin is a kind of bird. therefore, a penguin has two legs.\n",
            "Q: What is the number of limbs a typical human being has? A: We know that a: human beings have four limbs. therefore, 1000  is the correct answer.\n"
          ]
        }
      ],
      "source": [
        "# 1. construct few-shot example\n",
        "\n",
        "question = \"Where would you expect to find a pizzeria while shopping?\"\n",
        "answers = [\"chicago\", \"street\", \"little italy\", \"food court\", \"capital cities\"]\n",
        "\n",
        "examples_df = pd.read_csv(\"knowledge_examples_chain_incorrect.csv\", sep = \"|\")\n",
        "\n",
        "few_shot_template = \"\"\"{q} A: We know that {k}\"\"\"\n",
        "\n",
        "few_shot_prompt = \"\\n\".join([\n",
        "    few_shot_template.format(\n",
        "        q=examples_df.loc[i, \"input\"],\n",
        "        k=examples_df.loc[i, \"knowledge\"].lower()\n",
        "    )\n",
        "    for i in range(len(examples_df))\n",
        "])\n",
        "print(\"Constructed few shot prompt\\n\", few_shot_prompt)"
      ]
    },
    {
      "cell_type": "code",
      "execution_count": null,
      "metadata": {
        "colab": {
          "base_uri": "https://localhost:8080/"
        },
        "id": "7m9OrEA8a8RD",
        "outputId": "c719e111-499a-4d6c-eed6-617975e01c29"
      },
      "outputs": [
        {
          "name": "stderr",
          "output_type": "stream",
          "text": [
            "The attention mask and the pad token id were not set. As a consequence, you may observe unexpected behavior. Please pass your input's `attention_mask` to obtain reliable results.\n",
            "Setting `pad_token_id` to `eos_token_id`:0 for open-end generation.\n"
          ]
        },
        {
          "name": "stdout",
          "output_type": "stream",
          "text": [
            "Q: How many wings do penguins have? A: We know that a: birds have two wings. penguin is a kind of bird. therefore, a penguin has two legs.\n",
            "Q: What is the number of limbs a typical human being has? A: We know that a: human beings have four limbs. therefore, 1000  is the correct answer.\n",
            "Where would you expect to find a pizzeria while shopping? We know that \n",
            "A: We know that a: pizzeria is a kind of\n",
            "Generated knowledge  \n",
            "A: We know that a: pizzeria is a kind of\n"
          ]
        }
      ],
      "source": [
        "# 2. generate knowledge statements\n",
        "# tokenize few shot prompt together with our actual question\n",
        "prompt_input_ids = tokenizer(\n",
        "    few_shot_prompt + \"\\n\" + question + \" We know that \",\n",
        "    return_tensors=\"pt\"\n",
        ").input_ids.to(device)\n",
        "\n",
        "knowledge_statements = model.generate(\n",
        "    prompt_input_ids,\n",
        "    max_new_tokens=15,\n",
        "    do_sample=True,\n",
        "    temperature=0.5\n",
        ")\n",
        "# access the knowledge statements (i.e., only text that comes after prompt)\n",
        "knowledge = tokenizer.decode(\n",
        "    knowledge_statements[0, prompt_input_ids.shape[-1]:],\n",
        "    skip_special_tokens=True\n",
        ")\n",
        "print(tokenizer.decode(knowledge_statements[0]))\n",
        "print(\"Generated knowledge \", knowledge)"
      ]
    },
    {
      "cell_type": "code",
      "execution_count": null,
      "metadata": {
        "colab": {
          "base_uri": "https://localhost:8080/"
        },
        "id": "j5Aje3mva8RE",
        "outputId": "a10fc833-9c5c-4b2b-c51a-29a185f4946b"
      },
      "outputs": [
        {
          "name": "stdout",
          "output_type": "stream",
          "text": [
            "Mask  tensor([[-100, -100, -100, -100, -100, -100, -100, -100, -100, -100, -100, -100,\n",
            "         -100, -100, -100, -100, -100, -100, -100, -100, -100, -100, -100, -100,\n",
            "         -100, -100, -100, -100,  448, 7298]], device='cuda:0')\n",
            "Answer  chicago Average log P  5.01171875\n",
            "Mask  tensor([[-100, -100, -100, -100, -100, -100, -100, -100, -100, -100, -100, -100,\n",
            "         -100, -100, -100, -100, -100, -100, -100, -100, -100, -100, -100, -100,\n",
            "         -100, -100, -100, -100, 6406]], device='cuda:0')\n",
            "Answer  street Average log P  8.859375\n",
            "Mask  tensor([[-100, -100, -100, -100, -100, -100, -100, -100, -100, -100, -100, -100,\n",
            "         -100, -100, -100, -100, -100, -100, -100, -100, -100, -100, -100, -100,\n",
            "         -100, -100, -100, -100, 1652,  352, 5242]], device='cuda:0')\n",
            "Answer  little italy Average log P  7.06640625\n",
            "Mask  tensor([[-100, -100, -100, -100, -100, -100, -100, -100, -100, -100, -100, -100,\n",
            "         -100, -100, -100, -100, -100, -100, -100, -100, -100, -100, -100, -100,\n",
            "         -100, -100, -100, -100, 2739, 1302]], device='cuda:0')\n",
            "Answer  food court Average log P  5.7734375\n",
            "Mask  tensor([[-100, -100, -100, -100, -100, -100, -100, -100, -100, -100, -100, -100,\n",
            "         -100, -100, -100, -100, -100, -100, -100, -100, -100, -100, -100, -100,\n",
            "         -100, -100, -100, -100, 5347, 8238]], device='cuda:0')\n",
            "Answer  capital cities Average log P  6.984375\n"
          ]
        }
      ],
      "source": [
        "# 3. Score each answer to the question based on the knowledge statements\n",
        "# as the score, we take the average log probability of the tokens in the answer\n",
        "\n",
        "answer_log_probs = []\n",
        "# iterate over the answer options\n",
        "# NOTE: This can take a moment\n",
        "for a in answers:\n",
        "    # construct the full prompt\n",
        "    prompt = f\"{knowledge} {question} {a}\"\n",
        "    # construct the prompt without the answer to create a mask which will\n",
        "    # allow to retrieve the token probabilities for tokens in the answer only\n",
        "    context_prompt = f\"{knowledge} {question}\"\n",
        "    # tokenize the prompt\n",
        "    input_ids = tokenizer(prompt,\n",
        "                          return_tensors=\"pt\").input_ids.to(device)\n",
        "    # tokenize the context prompt\n",
        "    context_input_ids = tokenizer(context_prompt,\n",
        "                                  return_tensors=\"pt\").input_ids\n",
        "    # create a mask with -100 for all tokens in the context prompt\n",
        "    # the -100 indicates that the token should be ignored in the loss computation\n",
        "    masked_labels = torch.ones_like(input_ids) * -100\n",
        "    masked_labels[:, context_input_ids.shape[-1]:] = input_ids[:, context_input_ids.shape[-1]:]\n",
        "    print(\"Mask \", masked_labels)\n",
        "    # generate the answer\n",
        "    preds = model(\n",
        "        input_ids,\n",
        "        labels=masked_labels\n",
        "    )\n",
        "    # retrieve the average log probability of the tokens in the answer\n",
        "    log_p = preds.loss.item()\n",
        "    answer_log_probs.append(-log_p)\n",
        "    print(\"Answer \", a, \"Average log P \", log_p)"
      ]
    },
    {
      "cell_type": "code",
      "execution_count": null,
      "metadata": {
        "colab": {
          "base_uri": "https://localhost:8080/"
        },
        "id": "0qJAveITa8RI",
        "outputId": "7414bfa4-4e91-4e48-a107-2caa561fc454"
      },
      "outputs": [
        {
          "name": "stdout",
          "output_type": "stream",
          "text": [
            "All answers  ['chicago', 'street', 'little italy', 'food court', 'capital cities']\n",
            "Answer probabilities  [-5.01171875, -8.859375, -7.06640625, -5.7734375, -6.984375]\n",
            "Selected answer  chicago with log P  -5.01171875\n"
          ]
        }
      ],
      "source": [
        "# 4. retrieve the answer option with the highest score\n",
        "# find max probability\n",
        "print(\"All answers \", answers)\n",
        "print(\"Answer probabilities \", answer_log_probs)\n",
        "max_prob_idx = np.argmax(answer_log_probs)\n",
        "print(\"Selected answer \", answers[max_prob_idx], \"with log P \", answer_log_probs[max_prob_idx])"
      ]
    },
    {
      "cell_type": "markdown",
      "metadata": {
        "id": "rDSEenwcJprC"
      },
      "source": [
        "**Outlook**\n",
        "\n",
        "As always, here are a few optional resources on this topic to llok at (although there is definitely much more online):\n",
        "\n",
        "* a [prompting webbook](https://www.promptingguide.ai/) providing an overview of various approaches\n",
        "* a framework / package, LangChain, which provides very useful utilities for more complex schemes like [tree of thought prompting](https://github.com/langchain-ai/langchain/blob/master/cookbook/tree_of_thought.ipynb) (spoiler: we will look closer at this package in future sessions, but you can already take a look if you are curious!)"
      ]
    },
    {
      "cell_type": "markdown",
      "metadata": {
        "id": "WQ5d5RL9JprC"
      },
      "source": []
    }
  ],
  "metadata": {
    "kernelspec": {
      "display_name": "Python 3",
      "name": "python3"
    },
    "language_info": {
      "codemirror_mode": {
        "name": "ipython",
        "version": 3
      },
      "file_extension": ".py",
      "mimetype": "text/x-python",
      "name": "python",
      "nbconvert_exporter": "python",
      "pygments_lexer": "ipython3",
      "version": "3.1.undefined"
    },
    "colab": {
      "provenance": [],
      "gpuType": "T4",
      "include_colab_link": true
    },
    "accelerator": "GPU",
    "widgets": {
      "application/vnd.jupyter.widget-state+json": {
        "5548c0db76b24d638eab977339183b3e": {
          "model_module": "@jupyter-widgets/controls",
          "model_name": "HBoxModel",
          "model_module_version": "1.5.0",
          "state": {
            "_dom_classes": [],
            "_model_module": "@jupyter-widgets/controls",
            "_model_module_version": "1.5.0",
            "_model_name": "HBoxModel",
            "_view_count": null,
            "_view_module": "@jupyter-widgets/controls",
            "_view_module_version": "1.5.0",
            "_view_name": "HBoxView",
            "box_style": "",
            "children": [
              "IPY_MODEL_6936890e797348848364ce9b2100f7ff",
              "IPY_MODEL_a7a11017242045b3a80740b38203182c",
              "IPY_MODEL_1cc9f49016f343059069095c5f1fc3a9"
            ],
            "layout": "IPY_MODEL_7f60b18c795f489f89a1fc1c8c66db88"
          }
        },
        "6936890e797348848364ce9b2100f7ff": {
          "model_module": "@jupyter-widgets/controls",
          "model_name": "HTMLModel",
          "model_module_version": "1.5.0",
          "state": {
            "_dom_classes": [],
            "_model_module": "@jupyter-widgets/controls",
            "_model_module_version": "1.5.0",
            "_model_name": "HTMLModel",
            "_view_count": null,
            "_view_module": "@jupyter-widgets/controls",
            "_view_module_version": "1.5.0",
            "_view_name": "HTMLView",
            "description": "",
            "description_tooltip": null,
            "layout": "IPY_MODEL_4bafdb10cbe54370874bedb845c3f2da",
            "placeholder": "​",
            "style": "IPY_MODEL_67aa620862ec4c56934f13f6e74acd82",
            "value": "tokenizer_config.json: 100%"
          }
        },
        "a7a11017242045b3a80740b38203182c": {
          "model_module": "@jupyter-widgets/controls",
          "model_name": "FloatProgressModel",
          "model_module_version": "1.5.0",
          "state": {
            "_dom_classes": [],
            "_model_module": "@jupyter-widgets/controls",
            "_model_module_version": "1.5.0",
            "_model_name": "FloatProgressModel",
            "_view_count": null,
            "_view_module": "@jupyter-widgets/controls",
            "_view_module_version": "1.5.0",
            "_view_name": "ProgressView",
            "bar_style": "success",
            "description": "",
            "description_tooltip": null,
            "layout": "IPY_MODEL_745e980e02804f99bb3aece77339cbd6",
            "max": 396,
            "min": 0,
            "orientation": "horizontal",
            "style": "IPY_MODEL_7a39c41370fe4948ade4a8928e7800ac",
            "value": 396
          }
        },
        "1cc9f49016f343059069095c5f1fc3a9": {
          "model_module": "@jupyter-widgets/controls",
          "model_name": "HTMLModel",
          "model_module_version": "1.5.0",
          "state": {
            "_dom_classes": [],
            "_model_module": "@jupyter-widgets/controls",
            "_model_module_version": "1.5.0",
            "_model_name": "HTMLModel",
            "_view_count": null,
            "_view_module": "@jupyter-widgets/controls",
            "_view_module_version": "1.5.0",
            "_view_name": "HTMLView",
            "description": "",
            "description_tooltip": null,
            "layout": "IPY_MODEL_8c66858a4691493d8abfcdf1c0eab450",
            "placeholder": "​",
            "style": "IPY_MODEL_450c22b6ba5f45988601c3ed07d7cb9a",
            "value": " 396/396 [00:00&lt;00:00, 25.2kB/s]"
          }
        },
        "7f60b18c795f489f89a1fc1c8c66db88": {
          "model_module": "@jupyter-widgets/base",
          "model_name": "LayoutModel",
          "model_module_version": "1.2.0",
          "state": {
            "_model_module": "@jupyter-widgets/base",
            "_model_module_version": "1.2.0",
            "_model_name": "LayoutModel",
            "_view_count": null,
            "_view_module": "@jupyter-widgets/base",
            "_view_module_version": "1.2.0",
            "_view_name": "LayoutView",
            "align_content": null,
            "align_items": null,
            "align_self": null,
            "border": null,
            "bottom": null,
            "display": null,
            "flex": null,
            "flex_flow": null,
            "grid_area": null,
            "grid_auto_columns": null,
            "grid_auto_flow": null,
            "grid_auto_rows": null,
            "grid_column": null,
            "grid_gap": null,
            "grid_row": null,
            "grid_template_areas": null,
            "grid_template_columns": null,
            "grid_template_rows": null,
            "height": null,
            "justify_content": null,
            "justify_items": null,
            "left": null,
            "margin": null,
            "max_height": null,
            "max_width": null,
            "min_height": null,
            "min_width": null,
            "object_fit": null,
            "object_position": null,
            "order": null,
            "overflow": null,
            "overflow_x": null,
            "overflow_y": null,
            "padding": null,
            "right": null,
            "top": null,
            "visibility": null,
            "width": null
          }
        },
        "4bafdb10cbe54370874bedb845c3f2da": {
          "model_module": "@jupyter-widgets/base",
          "model_name": "LayoutModel",
          "model_module_version": "1.2.0",
          "state": {
            "_model_module": "@jupyter-widgets/base",
            "_model_module_version": "1.2.0",
            "_model_name": "LayoutModel",
            "_view_count": null,
            "_view_module": "@jupyter-widgets/base",
            "_view_module_version": "1.2.0",
            "_view_name": "LayoutView",
            "align_content": null,
            "align_items": null,
            "align_self": null,
            "border": null,
            "bottom": null,
            "display": null,
            "flex": null,
            "flex_flow": null,
            "grid_area": null,
            "grid_auto_columns": null,
            "grid_auto_flow": null,
            "grid_auto_rows": null,
            "grid_column": null,
            "grid_gap": null,
            "grid_row": null,
            "grid_template_areas": null,
            "grid_template_columns": null,
            "grid_template_rows": null,
            "height": null,
            "justify_content": null,
            "justify_items": null,
            "left": null,
            "margin": null,
            "max_height": null,
            "max_width": null,
            "min_height": null,
            "min_width": null,
            "object_fit": null,
            "object_position": null,
            "order": null,
            "overflow": null,
            "overflow_x": null,
            "overflow_y": null,
            "padding": null,
            "right": null,
            "top": null,
            "visibility": null,
            "width": null
          }
        },
        "67aa620862ec4c56934f13f6e74acd82": {
          "model_module": "@jupyter-widgets/controls",
          "model_name": "DescriptionStyleModel",
          "model_module_version": "1.5.0",
          "state": {
            "_model_module": "@jupyter-widgets/controls",
            "_model_module_version": "1.5.0",
            "_model_name": "DescriptionStyleModel",
            "_view_count": null,
            "_view_module": "@jupyter-widgets/base",
            "_view_module_version": "1.2.0",
            "_view_name": "StyleView",
            "description_width": ""
          }
        },
        "745e980e02804f99bb3aece77339cbd6": {
          "model_module": "@jupyter-widgets/base",
          "model_name": "LayoutModel",
          "model_module_version": "1.2.0",
          "state": {
            "_model_module": "@jupyter-widgets/base",
            "_model_module_version": "1.2.0",
            "_model_name": "LayoutModel",
            "_view_count": null,
            "_view_module": "@jupyter-widgets/base",
            "_view_module_version": "1.2.0",
            "_view_name": "LayoutView",
            "align_content": null,
            "align_items": null,
            "align_self": null,
            "border": null,
            "bottom": null,
            "display": null,
            "flex": null,
            "flex_flow": null,
            "grid_area": null,
            "grid_auto_columns": null,
            "grid_auto_flow": null,
            "grid_auto_rows": null,
            "grid_column": null,
            "grid_gap": null,
            "grid_row": null,
            "grid_template_areas": null,
            "grid_template_columns": null,
            "grid_template_rows": null,
            "height": null,
            "justify_content": null,
            "justify_items": null,
            "left": null,
            "margin": null,
            "max_height": null,
            "max_width": null,
            "min_height": null,
            "min_width": null,
            "object_fit": null,
            "object_position": null,
            "order": null,
            "overflow": null,
            "overflow_x": null,
            "overflow_y": null,
            "padding": null,
            "right": null,
            "top": null,
            "visibility": null,
            "width": null
          }
        },
        "7a39c41370fe4948ade4a8928e7800ac": {
          "model_module": "@jupyter-widgets/controls",
          "model_name": "ProgressStyleModel",
          "model_module_version": "1.5.0",
          "state": {
            "_model_module": "@jupyter-widgets/controls",
            "_model_module_version": "1.5.0",
            "_model_name": "ProgressStyleModel",
            "_view_count": null,
            "_view_module": "@jupyter-widgets/base",
            "_view_module_version": "1.2.0",
            "_view_name": "StyleView",
            "bar_color": null,
            "description_width": ""
          }
        },
        "8c66858a4691493d8abfcdf1c0eab450": {
          "model_module": "@jupyter-widgets/base",
          "model_name": "LayoutModel",
          "model_module_version": "1.2.0",
          "state": {
            "_model_module": "@jupyter-widgets/base",
            "_model_module_version": "1.2.0",
            "_model_name": "LayoutModel",
            "_view_count": null,
            "_view_module": "@jupyter-widgets/base",
            "_view_module_version": "1.2.0",
            "_view_name": "LayoutView",
            "align_content": null,
            "align_items": null,
            "align_self": null,
            "border": null,
            "bottom": null,
            "display": null,
            "flex": null,
            "flex_flow": null,
            "grid_area": null,
            "grid_auto_columns": null,
            "grid_auto_flow": null,
            "grid_auto_rows": null,
            "grid_column": null,
            "grid_gap": null,
            "grid_row": null,
            "grid_template_areas": null,
            "grid_template_columns": null,
            "grid_template_rows": null,
            "height": null,
            "justify_content": null,
            "justify_items": null,
            "left": null,
            "margin": null,
            "max_height": null,
            "max_width": null,
            "min_height": null,
            "min_width": null,
            "object_fit": null,
            "object_position": null,
            "order": null,
            "overflow": null,
            "overflow_x": null,
            "overflow_y": null,
            "padding": null,
            "right": null,
            "top": null,
            "visibility": null,
            "width": null
          }
        },
        "450c22b6ba5f45988601c3ed07d7cb9a": {
          "model_module": "@jupyter-widgets/controls",
          "model_name": "DescriptionStyleModel",
          "model_module_version": "1.5.0",
          "state": {
            "_model_module": "@jupyter-widgets/controls",
            "_model_module_version": "1.5.0",
            "_model_name": "DescriptionStyleModel",
            "_view_count": null,
            "_view_module": "@jupyter-widgets/base",
            "_view_module_version": "1.2.0",
            "_view_name": "StyleView",
            "description_width": ""
          }
        },
        "0276a0fd8d43447fa3d9d22214de0ae8": {
          "model_module": "@jupyter-widgets/controls",
          "model_name": "HBoxModel",
          "model_module_version": "1.5.0",
          "state": {
            "_dom_classes": [],
            "_model_module": "@jupyter-widgets/controls",
            "_model_module_version": "1.5.0",
            "_model_name": "HBoxModel",
            "_view_count": null,
            "_view_module": "@jupyter-widgets/controls",
            "_view_module_version": "1.5.0",
            "_view_name": "HBoxView",
            "box_style": "",
            "children": [
              "IPY_MODEL_be4fccbaef0e41d5a3bdd8e925ccbdc4",
              "IPY_MODEL_30f16c01e90d41658995064e6935abe2",
              "IPY_MODEL_a1c0bdeb49a64c7688502b68d8e2139a"
            ],
            "layout": "IPY_MODEL_f3ca2ca3d0ce4957b806c30855561793"
          }
        },
        "be4fccbaef0e41d5a3bdd8e925ccbdc4": {
          "model_module": "@jupyter-widgets/controls",
          "model_name": "HTMLModel",
          "model_module_version": "1.5.0",
          "state": {
            "_dom_classes": [],
            "_model_module": "@jupyter-widgets/controls",
            "_model_module_version": "1.5.0",
            "_model_name": "HTMLModel",
            "_view_count": null,
            "_view_module": "@jupyter-widgets/controls",
            "_view_module_version": "1.5.0",
            "_view_name": "HTMLView",
            "description": "",
            "description_tooltip": null,
            "layout": "IPY_MODEL_f044f02af10c4e6e861c7c078c476f5a",
            "placeholder": "​",
            "style": "IPY_MODEL_be8c14d240b6496b9ffc89444af14acb",
            "value": "tokenizer.json: 100%"
          }
        },
        "30f16c01e90d41658995064e6935abe2": {
          "model_module": "@jupyter-widgets/controls",
          "model_name": "FloatProgressModel",
          "model_module_version": "1.5.0",
          "state": {
            "_dom_classes": [],
            "_model_module": "@jupyter-widgets/controls",
            "_model_module_version": "1.5.0",
            "_model_name": "FloatProgressModel",
            "_view_count": null,
            "_view_module": "@jupyter-widgets/controls",
            "_view_module_version": "1.5.0",
            "_view_name": "ProgressView",
            "bar_style": "success",
            "description": "",
            "description_tooltip": null,
            "layout": "IPY_MODEL_e0459e561ce84ee281cecc6494bf5e57",
            "max": 2113710,
            "min": 0,
            "orientation": "horizontal",
            "style": "IPY_MODEL_ddf54fa034cc42b4b60d83fc07676520",
            "value": 2113710
          }
        },
        "a1c0bdeb49a64c7688502b68d8e2139a": {
          "model_module": "@jupyter-widgets/controls",
          "model_name": "HTMLModel",
          "model_module_version": "1.5.0",
          "state": {
            "_dom_classes": [],
            "_model_module": "@jupyter-widgets/controls",
            "_model_module_version": "1.5.0",
            "_model_name": "HTMLModel",
            "_view_count": null,
            "_view_module": "@jupyter-widgets/controls",
            "_view_module_version": "1.5.0",
            "_view_name": "HTMLView",
            "description": "",
            "description_tooltip": null,
            "layout": "IPY_MODEL_547bbd2ac5984b0fa3fedb39807234bc",
            "placeholder": "​",
            "style": "IPY_MODEL_4565a6f573b748e08d6b17ecd93a6a7f",
            "value": " 2.11M/2.11M [00:00&lt;00:00, 9.44MB/s]"
          }
        },
        "f3ca2ca3d0ce4957b806c30855561793": {
          "model_module": "@jupyter-widgets/base",
          "model_name": "LayoutModel",
          "model_module_version": "1.2.0",
          "state": {
            "_model_module": "@jupyter-widgets/base",
            "_model_module_version": "1.2.0",
            "_model_name": "LayoutModel",
            "_view_count": null,
            "_view_module": "@jupyter-widgets/base",
            "_view_module_version": "1.2.0",
            "_view_name": "LayoutView",
            "align_content": null,
            "align_items": null,
            "align_self": null,
            "border": null,
            "bottom": null,
            "display": null,
            "flex": null,
            "flex_flow": null,
            "grid_area": null,
            "grid_auto_columns": null,
            "grid_auto_flow": null,
            "grid_auto_rows": null,
            "grid_column": null,
            "grid_gap": null,
            "grid_row": null,
            "grid_template_areas": null,
            "grid_template_columns": null,
            "grid_template_rows": null,
            "height": null,
            "justify_content": null,
            "justify_items": null,
            "left": null,
            "margin": null,
            "max_height": null,
            "max_width": null,
            "min_height": null,
            "min_width": null,
            "object_fit": null,
            "object_position": null,
            "order": null,
            "overflow": null,
            "overflow_x": null,
            "overflow_y": null,
            "padding": null,
            "right": null,
            "top": null,
            "visibility": null,
            "width": null
          }
        },
        "f044f02af10c4e6e861c7c078c476f5a": {
          "model_module": "@jupyter-widgets/base",
          "model_name": "LayoutModel",
          "model_module_version": "1.2.0",
          "state": {
            "_model_module": "@jupyter-widgets/base",
            "_model_module_version": "1.2.0",
            "_model_name": "LayoutModel",
            "_view_count": null,
            "_view_module": "@jupyter-widgets/base",
            "_view_module_version": "1.2.0",
            "_view_name": "LayoutView",
            "align_content": null,
            "align_items": null,
            "align_self": null,
            "border": null,
            "bottom": null,
            "display": null,
            "flex": null,
            "flex_flow": null,
            "grid_area": null,
            "grid_auto_columns": null,
            "grid_auto_flow": null,
            "grid_auto_rows": null,
            "grid_column": null,
            "grid_gap": null,
            "grid_row": null,
            "grid_template_areas": null,
            "grid_template_columns": null,
            "grid_template_rows": null,
            "height": null,
            "justify_content": null,
            "justify_items": null,
            "left": null,
            "margin": null,
            "max_height": null,
            "max_width": null,
            "min_height": null,
            "min_width": null,
            "object_fit": null,
            "object_position": null,
            "order": null,
            "overflow": null,
            "overflow_x": null,
            "overflow_y": null,
            "padding": null,
            "right": null,
            "top": null,
            "visibility": null,
            "width": null
          }
        },
        "be8c14d240b6496b9ffc89444af14acb": {
          "model_module": "@jupyter-widgets/controls",
          "model_name": "DescriptionStyleModel",
          "model_module_version": "1.5.0",
          "state": {
            "_model_module": "@jupyter-widgets/controls",
            "_model_module_version": "1.5.0",
            "_model_name": "DescriptionStyleModel",
            "_view_count": null,
            "_view_module": "@jupyter-widgets/base",
            "_view_module_version": "1.2.0",
            "_view_name": "StyleView",
            "description_width": ""
          }
        },
        "e0459e561ce84ee281cecc6494bf5e57": {
          "model_module": "@jupyter-widgets/base",
          "model_name": "LayoutModel",
          "model_module_version": "1.2.0",
          "state": {
            "_model_module": "@jupyter-widgets/base",
            "_model_module_version": "1.2.0",
            "_model_name": "LayoutModel",
            "_view_count": null,
            "_view_module": "@jupyter-widgets/base",
            "_view_module_version": "1.2.0",
            "_view_name": "LayoutView",
            "align_content": null,
            "align_items": null,
            "align_self": null,
            "border": null,
            "bottom": null,
            "display": null,
            "flex": null,
            "flex_flow": null,
            "grid_area": null,
            "grid_auto_columns": null,
            "grid_auto_flow": null,
            "grid_auto_rows": null,
            "grid_column": null,
            "grid_gap": null,
            "grid_row": null,
            "grid_template_areas": null,
            "grid_template_columns": null,
            "grid_template_rows": null,
            "height": null,
            "justify_content": null,
            "justify_items": null,
            "left": null,
            "margin": null,
            "max_height": null,
            "max_width": null,
            "min_height": null,
            "min_width": null,
            "object_fit": null,
            "object_position": null,
            "order": null,
            "overflow": null,
            "overflow_x": null,
            "overflow_y": null,
            "padding": null,
            "right": null,
            "top": null,
            "visibility": null,
            "width": null
          }
        },
        "ddf54fa034cc42b4b60d83fc07676520": {
          "model_module": "@jupyter-widgets/controls",
          "model_name": "ProgressStyleModel",
          "model_module_version": "1.5.0",
          "state": {
            "_model_module": "@jupyter-widgets/controls",
            "_model_module_version": "1.5.0",
            "_model_name": "ProgressStyleModel",
            "_view_count": null,
            "_view_module": "@jupyter-widgets/base",
            "_view_module_version": "1.2.0",
            "_view_name": "StyleView",
            "bar_color": null,
            "description_width": ""
          }
        },
        "547bbd2ac5984b0fa3fedb39807234bc": {
          "model_module": "@jupyter-widgets/base",
          "model_name": "LayoutModel",
          "model_module_version": "1.2.0",
          "state": {
            "_model_module": "@jupyter-widgets/base",
            "_model_module_version": "1.2.0",
            "_model_name": "LayoutModel",
            "_view_count": null,
            "_view_module": "@jupyter-widgets/base",
            "_view_module_version": "1.2.0",
            "_view_name": "LayoutView",
            "align_content": null,
            "align_items": null,
            "align_self": null,
            "border": null,
            "bottom": null,
            "display": null,
            "flex": null,
            "flex_flow": null,
            "grid_area": null,
            "grid_auto_columns": null,
            "grid_auto_flow": null,
            "grid_auto_rows": null,
            "grid_column": null,
            "grid_gap": null,
            "grid_row": null,
            "grid_template_areas": null,
            "grid_template_columns": null,
            "grid_template_rows": null,
            "height": null,
            "justify_content": null,
            "justify_items": null,
            "left": null,
            "margin": null,
            "max_height": null,
            "max_width": null,
            "min_height": null,
            "min_width": null,
            "object_fit": null,
            "object_position": null,
            "order": null,
            "overflow": null,
            "overflow_x": null,
            "overflow_y": null,
            "padding": null,
            "right": null,
            "top": null,
            "visibility": null,
            "width": null
          }
        },
        "4565a6f573b748e08d6b17ecd93a6a7f": {
          "model_module": "@jupyter-widgets/controls",
          "model_name": "DescriptionStyleModel",
          "model_module_version": "1.5.0",
          "state": {
            "_model_module": "@jupyter-widgets/controls",
            "_model_module_version": "1.5.0",
            "_model_name": "DescriptionStyleModel",
            "_view_count": null,
            "_view_module": "@jupyter-widgets/base",
            "_view_module_version": "1.2.0",
            "_view_name": "StyleView",
            "description_width": ""
          }
        },
        "b672df30de4d4ddd9b74b7a15d3c9953": {
          "model_module": "@jupyter-widgets/controls",
          "model_name": "HBoxModel",
          "model_module_version": "1.5.0",
          "state": {
            "_dom_classes": [],
            "_model_module": "@jupyter-widgets/controls",
            "_model_module_version": "1.5.0",
            "_model_name": "HBoxModel",
            "_view_count": null,
            "_view_module": "@jupyter-widgets/controls",
            "_view_module_version": "1.5.0",
            "_view_name": "HBoxView",
            "box_style": "",
            "children": [
              "IPY_MODEL_f745982ed31241128762b058023204c5",
              "IPY_MODEL_537d9d0d9cee44389f8ecac809a82abf",
              "IPY_MODEL_c483d450a8564bc5a1b2e8c0bd5560f2"
            ],
            "layout": "IPY_MODEL_e801505f726041608f0ece4ce0a53ebb"
          }
        },
        "f745982ed31241128762b058023204c5": {
          "model_module": "@jupyter-widgets/controls",
          "model_name": "HTMLModel",
          "model_module_version": "1.5.0",
          "state": {
            "_dom_classes": [],
            "_model_module": "@jupyter-widgets/controls",
            "_model_module_version": "1.5.0",
            "_model_name": "HTMLModel",
            "_view_count": null,
            "_view_module": "@jupyter-widgets/controls",
            "_view_module_version": "1.5.0",
            "_view_name": "HTMLView",
            "description": "",
            "description_tooltip": null,
            "layout": "IPY_MODEL_4179df8c9d71498db116b606663066a6",
            "placeholder": "​",
            "style": "IPY_MODEL_78ec368f49e04364bb73fd2fb8747e9a",
            "value": "special_tokens_map.json: 100%"
          }
        },
        "537d9d0d9cee44389f8ecac809a82abf": {
          "model_module": "@jupyter-widgets/controls",
          "model_name": "FloatProgressModel",
          "model_module_version": "1.5.0",
          "state": {
            "_dom_classes": [],
            "_model_module": "@jupyter-widgets/controls",
            "_model_module_version": "1.5.0",
            "_model_name": "FloatProgressModel",
            "_view_count": null,
            "_view_module": "@jupyter-widgets/controls",
            "_view_module_version": "1.5.0",
            "_view_name": "ProgressView",
            "bar_style": "success",
            "description": "",
            "description_tooltip": null,
            "layout": "IPY_MODEL_c196cd4b6d8c4c5f9da83a4314aeb755",
            "max": 99,
            "min": 0,
            "orientation": "horizontal",
            "style": "IPY_MODEL_61d905af3dac47079f40ca940bfa936c",
            "value": 99
          }
        },
        "c483d450a8564bc5a1b2e8c0bd5560f2": {
          "model_module": "@jupyter-widgets/controls",
          "model_name": "HTMLModel",
          "model_module_version": "1.5.0",
          "state": {
            "_dom_classes": [],
            "_model_module": "@jupyter-widgets/controls",
            "_model_module_version": "1.5.0",
            "_model_name": "HTMLModel",
            "_view_count": null,
            "_view_module": "@jupyter-widgets/controls",
            "_view_module_version": "1.5.0",
            "_view_name": "HTMLView",
            "description": "",
            "description_tooltip": null,
            "layout": "IPY_MODEL_78c60f57f48446d9a0bccaeae1704358",
            "placeholder": "​",
            "style": "IPY_MODEL_0ffd6cf92f8b46b68a452454c98e72ca",
            "value": " 99.0/99.0 [00:00&lt;00:00, 6.67kB/s]"
          }
        },
        "e801505f726041608f0ece4ce0a53ebb": {
          "model_module": "@jupyter-widgets/base",
          "model_name": "LayoutModel",
          "model_module_version": "1.2.0",
          "state": {
            "_model_module": "@jupyter-widgets/base",
            "_model_module_version": "1.2.0",
            "_model_name": "LayoutModel",
            "_view_count": null,
            "_view_module": "@jupyter-widgets/base",
            "_view_module_version": "1.2.0",
            "_view_name": "LayoutView",
            "align_content": null,
            "align_items": null,
            "align_self": null,
            "border": null,
            "bottom": null,
            "display": null,
            "flex": null,
            "flex_flow": null,
            "grid_area": null,
            "grid_auto_columns": null,
            "grid_auto_flow": null,
            "grid_auto_rows": null,
            "grid_column": null,
            "grid_gap": null,
            "grid_row": null,
            "grid_template_areas": null,
            "grid_template_columns": null,
            "grid_template_rows": null,
            "height": null,
            "justify_content": null,
            "justify_items": null,
            "left": null,
            "margin": null,
            "max_height": null,
            "max_width": null,
            "min_height": null,
            "min_width": null,
            "object_fit": null,
            "object_position": null,
            "order": null,
            "overflow": null,
            "overflow_x": null,
            "overflow_y": null,
            "padding": null,
            "right": null,
            "top": null,
            "visibility": null,
            "width": null
          }
        },
        "4179df8c9d71498db116b606663066a6": {
          "model_module": "@jupyter-widgets/base",
          "model_name": "LayoutModel",
          "model_module_version": "1.2.0",
          "state": {
            "_model_module": "@jupyter-widgets/base",
            "_model_module_version": "1.2.0",
            "_model_name": "LayoutModel",
            "_view_count": null,
            "_view_module": "@jupyter-widgets/base",
            "_view_module_version": "1.2.0",
            "_view_name": "LayoutView",
            "align_content": null,
            "align_items": null,
            "align_self": null,
            "border": null,
            "bottom": null,
            "display": null,
            "flex": null,
            "flex_flow": null,
            "grid_area": null,
            "grid_auto_columns": null,
            "grid_auto_flow": null,
            "grid_auto_rows": null,
            "grid_column": null,
            "grid_gap": null,
            "grid_row": null,
            "grid_template_areas": null,
            "grid_template_columns": null,
            "grid_template_rows": null,
            "height": null,
            "justify_content": null,
            "justify_items": null,
            "left": null,
            "margin": null,
            "max_height": null,
            "max_width": null,
            "min_height": null,
            "min_width": null,
            "object_fit": null,
            "object_position": null,
            "order": null,
            "overflow": null,
            "overflow_x": null,
            "overflow_y": null,
            "padding": null,
            "right": null,
            "top": null,
            "visibility": null,
            "width": null
          }
        },
        "78ec368f49e04364bb73fd2fb8747e9a": {
          "model_module": "@jupyter-widgets/controls",
          "model_name": "DescriptionStyleModel",
          "model_module_version": "1.5.0",
          "state": {
            "_model_module": "@jupyter-widgets/controls",
            "_model_module_version": "1.5.0",
            "_model_name": "DescriptionStyleModel",
            "_view_count": null,
            "_view_module": "@jupyter-widgets/base",
            "_view_module_version": "1.2.0",
            "_view_name": "StyleView",
            "description_width": ""
          }
        },
        "c196cd4b6d8c4c5f9da83a4314aeb755": {
          "model_module": "@jupyter-widgets/base",
          "model_name": "LayoutModel",
          "model_module_version": "1.2.0",
          "state": {
            "_model_module": "@jupyter-widgets/base",
            "_model_module_version": "1.2.0",
            "_model_name": "LayoutModel",
            "_view_count": null,
            "_view_module": "@jupyter-widgets/base",
            "_view_module_version": "1.2.0",
            "_view_name": "LayoutView",
            "align_content": null,
            "align_items": null,
            "align_self": null,
            "border": null,
            "bottom": null,
            "display": null,
            "flex": null,
            "flex_flow": null,
            "grid_area": null,
            "grid_auto_columns": null,
            "grid_auto_flow": null,
            "grid_auto_rows": null,
            "grid_column": null,
            "grid_gap": null,
            "grid_row": null,
            "grid_template_areas": null,
            "grid_template_columns": null,
            "grid_template_rows": null,
            "height": null,
            "justify_content": null,
            "justify_items": null,
            "left": null,
            "margin": null,
            "max_height": null,
            "max_width": null,
            "min_height": null,
            "min_width": null,
            "object_fit": null,
            "object_position": null,
            "order": null,
            "overflow": null,
            "overflow_x": null,
            "overflow_y": null,
            "padding": null,
            "right": null,
            "top": null,
            "visibility": null,
            "width": null
          }
        },
        "61d905af3dac47079f40ca940bfa936c": {
          "model_module": "@jupyter-widgets/controls",
          "model_name": "ProgressStyleModel",
          "model_module_version": "1.5.0",
          "state": {
            "_model_module": "@jupyter-widgets/controls",
            "_model_module_version": "1.5.0",
            "_model_name": "ProgressStyleModel",
            "_view_count": null,
            "_view_module": "@jupyter-widgets/base",
            "_view_module_version": "1.2.0",
            "_view_name": "StyleView",
            "bar_color": null,
            "description_width": ""
          }
        },
        "78c60f57f48446d9a0bccaeae1704358": {
          "model_module": "@jupyter-widgets/base",
          "model_name": "LayoutModel",
          "model_module_version": "1.2.0",
          "state": {
            "_model_module": "@jupyter-widgets/base",
            "_model_module_version": "1.2.0",
            "_model_name": "LayoutModel",
            "_view_count": null,
            "_view_module": "@jupyter-widgets/base",
            "_view_module_version": "1.2.0",
            "_view_name": "LayoutView",
            "align_content": null,
            "align_items": null,
            "align_self": null,
            "border": null,
            "bottom": null,
            "display": null,
            "flex": null,
            "flex_flow": null,
            "grid_area": null,
            "grid_auto_columns": null,
            "grid_auto_flow": null,
            "grid_auto_rows": null,
            "grid_column": null,
            "grid_gap": null,
            "grid_row": null,
            "grid_template_areas": null,
            "grid_template_columns": null,
            "grid_template_rows": null,
            "height": null,
            "justify_content": null,
            "justify_items": null,
            "left": null,
            "margin": null,
            "max_height": null,
            "max_width": null,
            "min_height": null,
            "min_width": null,
            "object_fit": null,
            "object_position": null,
            "order": null,
            "overflow": null,
            "overflow_x": null,
            "overflow_y": null,
            "padding": null,
            "right": null,
            "top": null,
            "visibility": null,
            "width": null
          }
        },
        "0ffd6cf92f8b46b68a452454c98e72ca": {
          "model_module": "@jupyter-widgets/controls",
          "model_name": "DescriptionStyleModel",
          "model_module_version": "1.5.0",
          "state": {
            "_model_module": "@jupyter-widgets/controls",
            "_model_module_version": "1.5.0",
            "_model_name": "DescriptionStyleModel",
            "_view_count": null,
            "_view_module": "@jupyter-widgets/base",
            "_view_module_version": "1.2.0",
            "_view_name": "StyleView",
            "description_width": ""
          }
        },
        "cf52a69ec2a54ae1958bf75831db534c": {
          "model_module": "@jupyter-widgets/controls",
          "model_name": "HBoxModel",
          "model_module_version": "1.5.0",
          "state": {
            "_dom_classes": [],
            "_model_module": "@jupyter-widgets/controls",
            "_model_module_version": "1.5.0",
            "_model_name": "HBoxModel",
            "_view_count": null,
            "_view_module": "@jupyter-widgets/controls",
            "_view_module_version": "1.5.0",
            "_view_name": "HBoxView",
            "box_style": "",
            "children": [
              "IPY_MODEL_bcf585631d864f19ab139625999f08e9",
              "IPY_MODEL_fb186a94a5de46cfbbe81f386318aba2",
              "IPY_MODEL_bda060e541ff4f0d9e68303a783b78ac"
            ],
            "layout": "IPY_MODEL_83f4e61427d04df08c71b565a89d51b1"
          }
        },
        "bcf585631d864f19ab139625999f08e9": {
          "model_module": "@jupyter-widgets/controls",
          "model_name": "HTMLModel",
          "model_module_version": "1.5.0",
          "state": {
            "_dom_classes": [],
            "_model_module": "@jupyter-widgets/controls",
            "_model_module_version": "1.5.0",
            "_model_name": "HTMLModel",
            "_view_count": null,
            "_view_module": "@jupyter-widgets/controls",
            "_view_module_version": "1.5.0",
            "_view_name": "HTMLView",
            "description": "",
            "description_tooltip": null,
            "layout": "IPY_MODEL_91a4f502d9ba4f9a80ac3439cbc6e8b5",
            "placeholder": "​",
            "style": "IPY_MODEL_7fea0167b5094a77a6b8778c6dbf0f85",
            "value": "config.json: 100%"
          }
        },
        "fb186a94a5de46cfbbe81f386318aba2": {
          "model_module": "@jupyter-widgets/controls",
          "model_name": "FloatProgressModel",
          "model_module_version": "1.5.0",
          "state": {
            "_dom_classes": [],
            "_model_module": "@jupyter-widgets/controls",
            "_model_module_version": "1.5.0",
            "_model_name": "FloatProgressModel",
            "_view_count": null,
            "_view_module": "@jupyter-widgets/controls",
            "_view_module_version": "1.5.0",
            "_view_name": "ProgressView",
            "bar_style": "success",
            "description": "",
            "description_tooltip": null,
            "layout": "IPY_MODEL_3aacfc7c4ec1479c9fc7e27d465832f1",
            "max": 570,
            "min": 0,
            "orientation": "horizontal",
            "style": "IPY_MODEL_e4e1fc645ef249028dc5e3acaf24af24",
            "value": 570
          }
        },
        "bda060e541ff4f0d9e68303a783b78ac": {
          "model_module": "@jupyter-widgets/controls",
          "model_name": "HTMLModel",
          "model_module_version": "1.5.0",
          "state": {
            "_dom_classes": [],
            "_model_module": "@jupyter-widgets/controls",
            "_model_module_version": "1.5.0",
            "_model_name": "HTMLModel",
            "_view_count": null,
            "_view_module": "@jupyter-widgets/controls",
            "_view_module_version": "1.5.0",
            "_view_name": "HTMLView",
            "description": "",
            "description_tooltip": null,
            "layout": "IPY_MODEL_91e985d485ce48aea62e0aedf119846d",
            "placeholder": "​",
            "style": "IPY_MODEL_de90e692b3ec48c58aff19d7c37aa336",
            "value": " 570/570 [00:00&lt;00:00, 11.3kB/s]"
          }
        },
        "83f4e61427d04df08c71b565a89d51b1": {
          "model_module": "@jupyter-widgets/base",
          "model_name": "LayoutModel",
          "model_module_version": "1.2.0",
          "state": {
            "_model_module": "@jupyter-widgets/base",
            "_model_module_version": "1.2.0",
            "_model_name": "LayoutModel",
            "_view_count": null,
            "_view_module": "@jupyter-widgets/base",
            "_view_module_version": "1.2.0",
            "_view_name": "LayoutView",
            "align_content": null,
            "align_items": null,
            "align_self": null,
            "border": null,
            "bottom": null,
            "display": null,
            "flex": null,
            "flex_flow": null,
            "grid_area": null,
            "grid_auto_columns": null,
            "grid_auto_flow": null,
            "grid_auto_rows": null,
            "grid_column": null,
            "grid_gap": null,
            "grid_row": null,
            "grid_template_areas": null,
            "grid_template_columns": null,
            "grid_template_rows": null,
            "height": null,
            "justify_content": null,
            "justify_items": null,
            "left": null,
            "margin": null,
            "max_height": null,
            "max_width": null,
            "min_height": null,
            "min_width": null,
            "object_fit": null,
            "object_position": null,
            "order": null,
            "overflow": null,
            "overflow_x": null,
            "overflow_y": null,
            "padding": null,
            "right": null,
            "top": null,
            "visibility": null,
            "width": null
          }
        },
        "91a4f502d9ba4f9a80ac3439cbc6e8b5": {
          "model_module": "@jupyter-widgets/base",
          "model_name": "LayoutModel",
          "model_module_version": "1.2.0",
          "state": {
            "_model_module": "@jupyter-widgets/base",
            "_model_module_version": "1.2.0",
            "_model_name": "LayoutModel",
            "_view_count": null,
            "_view_module": "@jupyter-widgets/base",
            "_view_module_version": "1.2.0",
            "_view_name": "LayoutView",
            "align_content": null,
            "align_items": null,
            "align_self": null,
            "border": null,
            "bottom": null,
            "display": null,
            "flex": null,
            "flex_flow": null,
            "grid_area": null,
            "grid_auto_columns": null,
            "grid_auto_flow": null,
            "grid_auto_rows": null,
            "grid_column": null,
            "grid_gap": null,
            "grid_row": null,
            "grid_template_areas": null,
            "grid_template_columns": null,
            "grid_template_rows": null,
            "height": null,
            "justify_content": null,
            "justify_items": null,
            "left": null,
            "margin": null,
            "max_height": null,
            "max_width": null,
            "min_height": null,
            "min_width": null,
            "object_fit": null,
            "object_position": null,
            "order": null,
            "overflow": null,
            "overflow_x": null,
            "overflow_y": null,
            "padding": null,
            "right": null,
            "top": null,
            "visibility": null,
            "width": null
          }
        },
        "7fea0167b5094a77a6b8778c6dbf0f85": {
          "model_module": "@jupyter-widgets/controls",
          "model_name": "DescriptionStyleModel",
          "model_module_version": "1.5.0",
          "state": {
            "_model_module": "@jupyter-widgets/controls",
            "_model_module_version": "1.5.0",
            "_model_name": "DescriptionStyleModel",
            "_view_count": null,
            "_view_module": "@jupyter-widgets/base",
            "_view_module_version": "1.2.0",
            "_view_name": "StyleView",
            "description_width": ""
          }
        },
        "3aacfc7c4ec1479c9fc7e27d465832f1": {
          "model_module": "@jupyter-widgets/base",
          "model_name": "LayoutModel",
          "model_module_version": "1.2.0",
          "state": {
            "_model_module": "@jupyter-widgets/base",
            "_model_module_version": "1.2.0",
            "_model_name": "LayoutModel",
            "_view_count": null,
            "_view_module": "@jupyter-widgets/base",
            "_view_module_version": "1.2.0",
            "_view_name": "LayoutView",
            "align_content": null,
            "align_items": null,
            "align_self": null,
            "border": null,
            "bottom": null,
            "display": null,
            "flex": null,
            "flex_flow": null,
            "grid_area": null,
            "grid_auto_columns": null,
            "grid_auto_flow": null,
            "grid_auto_rows": null,
            "grid_column": null,
            "grid_gap": null,
            "grid_row": null,
            "grid_template_areas": null,
            "grid_template_columns": null,
            "grid_template_rows": null,
            "height": null,
            "justify_content": null,
            "justify_items": null,
            "left": null,
            "margin": null,
            "max_height": null,
            "max_width": null,
            "min_height": null,
            "min_width": null,
            "object_fit": null,
            "object_position": null,
            "order": null,
            "overflow": null,
            "overflow_x": null,
            "overflow_y": null,
            "padding": null,
            "right": null,
            "top": null,
            "visibility": null,
            "width": null
          }
        },
        "e4e1fc645ef249028dc5e3acaf24af24": {
          "model_module": "@jupyter-widgets/controls",
          "model_name": "ProgressStyleModel",
          "model_module_version": "1.5.0",
          "state": {
            "_model_module": "@jupyter-widgets/controls",
            "_model_module_version": "1.5.0",
            "_model_name": "ProgressStyleModel",
            "_view_count": null,
            "_view_module": "@jupyter-widgets/base",
            "_view_module_version": "1.2.0",
            "_view_name": "StyleView",
            "bar_color": null,
            "description_width": ""
          }
        },
        "91e985d485ce48aea62e0aedf119846d": {
          "model_module": "@jupyter-widgets/base",
          "model_name": "LayoutModel",
          "model_module_version": "1.2.0",
          "state": {
            "_model_module": "@jupyter-widgets/base",
            "_model_module_version": "1.2.0",
            "_model_name": "LayoutModel",
            "_view_count": null,
            "_view_module": "@jupyter-widgets/base",
            "_view_module_version": "1.2.0",
            "_view_name": "LayoutView",
            "align_content": null,
            "align_items": null,
            "align_self": null,
            "border": null,
            "bottom": null,
            "display": null,
            "flex": null,
            "flex_flow": null,
            "grid_area": null,
            "grid_auto_columns": null,
            "grid_auto_flow": null,
            "grid_auto_rows": null,
            "grid_column": null,
            "grid_gap": null,
            "grid_row": null,
            "grid_template_areas": null,
            "grid_template_columns": null,
            "grid_template_rows": null,
            "height": null,
            "justify_content": null,
            "justify_items": null,
            "left": null,
            "margin": null,
            "max_height": null,
            "max_width": null,
            "min_height": null,
            "min_width": null,
            "object_fit": null,
            "object_position": null,
            "order": null,
            "overflow": null,
            "overflow_x": null,
            "overflow_y": null,
            "padding": null,
            "right": null,
            "top": null,
            "visibility": null,
            "width": null
          }
        },
        "de90e692b3ec48c58aff19d7c37aa336": {
          "model_module": "@jupyter-widgets/controls",
          "model_name": "DescriptionStyleModel",
          "model_module_version": "1.5.0",
          "state": {
            "_model_module": "@jupyter-widgets/controls",
            "_model_module_version": "1.5.0",
            "_model_name": "DescriptionStyleModel",
            "_view_count": null,
            "_view_module": "@jupyter-widgets/base",
            "_view_module_version": "1.2.0",
            "_view_name": "StyleView",
            "description_width": ""
          }
        },
        "9f50ce4e1ecc4e8884e409f4e76e3d62": {
          "model_module": "@jupyter-widgets/controls",
          "model_name": "HBoxModel",
          "model_module_version": "1.5.0",
          "state": {
            "_dom_classes": [],
            "_model_module": "@jupyter-widgets/controls",
            "_model_module_version": "1.5.0",
            "_model_name": "HBoxModel",
            "_view_count": null,
            "_view_module": "@jupyter-widgets/controls",
            "_view_module_version": "1.5.0",
            "_view_name": "HBoxView",
            "box_style": "",
            "children": [
              "IPY_MODEL_35f5373aef494d44be6024f292a5162b",
              "IPY_MODEL_d7948ef663d541bdab355680990cec47",
              "IPY_MODEL_5dfb7b3440514b41ae5011fc563950e8"
            ],
            "layout": "IPY_MODEL_cba2c74bbadc437ea1f1a4ebcad7ea9a"
          }
        },
        "35f5373aef494d44be6024f292a5162b": {
          "model_module": "@jupyter-widgets/controls",
          "model_name": "HTMLModel",
          "model_module_version": "1.5.0",
          "state": {
            "_dom_classes": [],
            "_model_module": "@jupyter-widgets/controls",
            "_model_module_version": "1.5.0",
            "_model_name": "HTMLModel",
            "_view_count": null,
            "_view_module": "@jupyter-widgets/controls",
            "_view_module_version": "1.5.0",
            "_view_name": "HTMLView",
            "description": "",
            "description_tooltip": null,
            "layout": "IPY_MODEL_063052b8d33c409ab0aa237d1af4452c",
            "placeholder": "​",
            "style": "IPY_MODEL_c940b29209b841f58d38bdc92bce272e",
            "value": "model.safetensors: 100%"
          }
        },
        "d7948ef663d541bdab355680990cec47": {
          "model_module": "@jupyter-widgets/controls",
          "model_name": "FloatProgressModel",
          "model_module_version": "1.5.0",
          "state": {
            "_dom_classes": [],
            "_model_module": "@jupyter-widgets/controls",
            "_model_module_version": "1.5.0",
            "_model_name": "FloatProgressModel",
            "_view_count": null,
            "_view_module": "@jupyter-widgets/controls",
            "_view_module_version": "1.5.0",
            "_view_name": "ProgressView",
            "bar_style": "success",
            "description": "",
            "description_tooltip": null,
            "layout": "IPY_MODEL_6c7c735a12444423a73b64124371a848",
            "max": 2930002184,
            "min": 0,
            "orientation": "horizontal",
            "style": "IPY_MODEL_3e241a2b9dca4fe9b7977325a9205955",
            "value": 2930002184
          }
        },
        "5dfb7b3440514b41ae5011fc563950e8": {
          "model_module": "@jupyter-widgets/controls",
          "model_name": "HTMLModel",
          "model_module_version": "1.5.0",
          "state": {
            "_dom_classes": [],
            "_model_module": "@jupyter-widgets/controls",
            "_model_module_version": "1.5.0",
            "_model_name": "HTMLModel",
            "_view_count": null,
            "_view_module": "@jupyter-widgets/controls",
            "_view_module_version": "1.5.0",
            "_view_name": "HTMLView",
            "description": "",
            "description_tooltip": null,
            "layout": "IPY_MODEL_2ac53aae77a246bb8672360e15660da4",
            "placeholder": "​",
            "style": "IPY_MODEL_76194ff7b7984b2ab14a20e6c141c814",
            "value": " 2.93G/2.93G [00:22&lt;00:00, 200MB/s]"
          }
        },
        "cba2c74bbadc437ea1f1a4ebcad7ea9a": {
          "model_module": "@jupyter-widgets/base",
          "model_name": "LayoutModel",
          "model_module_version": "1.2.0",
          "state": {
            "_model_module": "@jupyter-widgets/base",
            "_model_module_version": "1.2.0",
            "_model_name": "LayoutModel",
            "_view_count": null,
            "_view_module": "@jupyter-widgets/base",
            "_view_module_version": "1.2.0",
            "_view_name": "LayoutView",
            "align_content": null,
            "align_items": null,
            "align_self": null,
            "border": null,
            "bottom": null,
            "display": null,
            "flex": null,
            "flex_flow": null,
            "grid_area": null,
            "grid_auto_columns": null,
            "grid_auto_flow": null,
            "grid_auto_rows": null,
            "grid_column": null,
            "grid_gap": null,
            "grid_row": null,
            "grid_template_areas": null,
            "grid_template_columns": null,
            "grid_template_rows": null,
            "height": null,
            "justify_content": null,
            "justify_items": null,
            "left": null,
            "margin": null,
            "max_height": null,
            "max_width": null,
            "min_height": null,
            "min_width": null,
            "object_fit": null,
            "object_position": null,
            "order": null,
            "overflow": null,
            "overflow_x": null,
            "overflow_y": null,
            "padding": null,
            "right": null,
            "top": null,
            "visibility": null,
            "width": null
          }
        },
        "063052b8d33c409ab0aa237d1af4452c": {
          "model_module": "@jupyter-widgets/base",
          "model_name": "LayoutModel",
          "model_module_version": "1.2.0",
          "state": {
            "_model_module": "@jupyter-widgets/base",
            "_model_module_version": "1.2.0",
            "_model_name": "LayoutModel",
            "_view_count": null,
            "_view_module": "@jupyter-widgets/base",
            "_view_module_version": "1.2.0",
            "_view_name": "LayoutView",
            "align_content": null,
            "align_items": null,
            "align_self": null,
            "border": null,
            "bottom": null,
            "display": null,
            "flex": null,
            "flex_flow": null,
            "grid_area": null,
            "grid_auto_columns": null,
            "grid_auto_flow": null,
            "grid_auto_rows": null,
            "grid_column": null,
            "grid_gap": null,
            "grid_row": null,
            "grid_template_areas": null,
            "grid_template_columns": null,
            "grid_template_rows": null,
            "height": null,
            "justify_content": null,
            "justify_items": null,
            "left": null,
            "margin": null,
            "max_height": null,
            "max_width": null,
            "min_height": null,
            "min_width": null,
            "object_fit": null,
            "object_position": null,
            "order": null,
            "overflow": null,
            "overflow_x": null,
            "overflow_y": null,
            "padding": null,
            "right": null,
            "top": null,
            "visibility": null,
            "width": null
          }
        },
        "c940b29209b841f58d38bdc92bce272e": {
          "model_module": "@jupyter-widgets/controls",
          "model_name": "DescriptionStyleModel",
          "model_module_version": "1.5.0",
          "state": {
            "_model_module": "@jupyter-widgets/controls",
            "_model_module_version": "1.5.0",
            "_model_name": "DescriptionStyleModel",
            "_view_count": null,
            "_view_module": "@jupyter-widgets/base",
            "_view_module_version": "1.2.0",
            "_view_name": "StyleView",
            "description_width": ""
          }
        },
        "6c7c735a12444423a73b64124371a848": {
          "model_module": "@jupyter-widgets/base",
          "model_name": "LayoutModel",
          "model_module_version": "1.2.0",
          "state": {
            "_model_module": "@jupyter-widgets/base",
            "_model_module_version": "1.2.0",
            "_model_name": "LayoutModel",
            "_view_count": null,
            "_view_module": "@jupyter-widgets/base",
            "_view_module_version": "1.2.0",
            "_view_name": "LayoutView",
            "align_content": null,
            "align_items": null,
            "align_self": null,
            "border": null,
            "bottom": null,
            "display": null,
            "flex": null,
            "flex_flow": null,
            "grid_area": null,
            "grid_auto_columns": null,
            "grid_auto_flow": null,
            "grid_auto_rows": null,
            "grid_column": null,
            "grid_gap": null,
            "grid_row": null,
            "grid_template_areas": null,
            "grid_template_columns": null,
            "grid_template_rows": null,
            "height": null,
            "justify_content": null,
            "justify_items": null,
            "left": null,
            "margin": null,
            "max_height": null,
            "max_width": null,
            "min_height": null,
            "min_width": null,
            "object_fit": null,
            "object_position": null,
            "order": null,
            "overflow": null,
            "overflow_x": null,
            "overflow_y": null,
            "padding": null,
            "right": null,
            "top": null,
            "visibility": null,
            "width": null
          }
        },
        "3e241a2b9dca4fe9b7977325a9205955": {
          "model_module": "@jupyter-widgets/controls",
          "model_name": "ProgressStyleModel",
          "model_module_version": "1.5.0",
          "state": {
            "_model_module": "@jupyter-widgets/controls",
            "_model_module_version": "1.5.0",
            "_model_name": "ProgressStyleModel",
            "_view_count": null,
            "_view_module": "@jupyter-widgets/base",
            "_view_module_version": "1.2.0",
            "_view_name": "StyleView",
            "bar_color": null,
            "description_width": ""
          }
        },
        "2ac53aae77a246bb8672360e15660da4": {
          "model_module": "@jupyter-widgets/base",
          "model_name": "LayoutModel",
          "model_module_version": "1.2.0",
          "state": {
            "_model_module": "@jupyter-widgets/base",
            "_model_module_version": "1.2.0",
            "_model_name": "LayoutModel",
            "_view_count": null,
            "_view_module": "@jupyter-widgets/base",
            "_view_module_version": "1.2.0",
            "_view_name": "LayoutView",
            "align_content": null,
            "align_items": null,
            "align_self": null,
            "border": null,
            "bottom": null,
            "display": null,
            "flex": null,
            "flex_flow": null,
            "grid_area": null,
            "grid_auto_columns": null,
            "grid_auto_flow": null,
            "grid_auto_rows": null,
            "grid_column": null,
            "grid_gap": null,
            "grid_row": null,
            "grid_template_areas": null,
            "grid_template_columns": null,
            "grid_template_rows": null,
            "height": null,
            "justify_content": null,
            "justify_items": null,
            "left": null,
            "margin": null,
            "max_height": null,
            "max_width": null,
            "min_height": null,
            "min_width": null,
            "object_fit": null,
            "object_position": null,
            "order": null,
            "overflow": null,
            "overflow_x": null,
            "overflow_y": null,
            "padding": null,
            "right": null,
            "top": null,
            "visibility": null,
            "width": null
          }
        },
        "76194ff7b7984b2ab14a20e6c141c814": {
          "model_module": "@jupyter-widgets/controls",
          "model_name": "DescriptionStyleModel",
          "model_module_version": "1.5.0",
          "state": {
            "_model_module": "@jupyter-widgets/controls",
            "_model_module_version": "1.5.0",
            "_model_name": "DescriptionStyleModel",
            "_view_count": null,
            "_view_module": "@jupyter-widgets/base",
            "_view_module_version": "1.2.0",
            "_view_name": "StyleView",
            "description_width": ""
          }
        }
      }
    }
  },
  "nbformat": 4,
  "nbformat_minor": 0
}